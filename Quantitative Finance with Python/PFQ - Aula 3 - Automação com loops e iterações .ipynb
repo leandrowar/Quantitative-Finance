{
 "cells": [
  {
   "cell_type": "markdown",
   "metadata": {},
   "source": [
    "### Curso de Python para Finanças Quantitativas\n",
    "\n",
    "#### Aula 3 - Automação com loops e iterações \n",
    "#### Autor: Leandro Guerra - Outspoken Market\n",
    "#### Download em: https://www.outspokenmarket.com/pythonfinancasquantitativas.html"
   ]
  },
  {
   "cell_type": "code",
   "execution_count": 1,
   "metadata": {},
   "outputs": [],
   "source": [
    "# Carregando as bibliotecas necessarias\n",
    "\n",
    "from pandas_datareader import data as pdr\n",
    "from datetime import date\n",
    "import yfinance as yf\n",
    "yf.pdr_override()\n",
    "import pandas as pd\n",
    "import matplotlib.pyplot as plt\n",
    "import numpy as np\n",
    "\n",
    "import warnings\n",
    "warnings.filterwarnings(\"ignore\")"
   ]
  },
  {
   "cell_type": "markdown",
   "metadata": {},
   "source": [
    "### Loops e iterações "
   ]
  },
  {
   "cell_type": "code",
   "execution_count": null,
   "metadata": {},
   "outputs": [],
   "source": [
    "#Podem ser condicionais, sequenciais ou existir enquanto uma condicao nao for alcançada"
   ]
  },
  {
   "attachments": {
    "image.png": {
     "image/png": "[encoded data removed]"
    }
   },
   "cell_type": "markdown",
   "metadata": {},
   "source": [
    "![image.png](attachment:image.png)"
   ]
  },
  {
   "cell_type": "code",
   "execution_count": 2,
   "metadata": {},
   "outputs": [],
   "source": [
    "# O seu primeiro loop\n",
    "\n",
    "var = \"Eu vou aprender a programar\""
   ]
  },
  {
   "cell_type": "code",
   "execution_count": 3,
   "metadata": {},
   "outputs": [
    {
     "data": {
      "text/plain": [
       "'Eu vou aprender a programar'"
      ]
     },
     "execution_count": 3,
     "metadata": {},
     "output_type": "execute_result"
    }
   ],
   "source": [
    "var"
   ]
  },
  {
   "cell_type": "code",
   "execution_count": 7,
   "metadata": {},
   "outputs": [
    {
     "name": "stdout",
     "output_type": "stream",
     "text": [
      "E\n",
      "u\n",
      " \n",
      "v\n",
      "o\n",
      "u\n",
      " \n",
      "a\n",
      "p\n",
      "r\n",
      "e\n",
      "n\n",
      "d\n",
      "e\n",
      "r\n",
      " \n",
      "a\n",
      " \n",
      "p\n",
      "r\n",
      "o\n",
      "g\n",
      "r\n",
      "a\n",
      "m\n",
      "a\n",
      "r\n"
     ]
    }
   ],
   "source": [
    "for qualquer_coisa in var:\n",
    "   print (qualquer_coisa)"
   ]
  },
  {
   "cell_type": "code",
   "execution_count": 8,
   "metadata": {},
   "outputs": [],
   "source": [
    "# O seu primeiro loop\n",
    "\n",
    "var = [\"Eu\",\"vou\",\"aprender\",\"a\",\"programar\"]"
   ]
  },
  {
   "cell_type": "code",
   "execution_count": 9,
   "metadata": {},
   "outputs": [
    {
     "data": {
      "text/plain": [
       "['Eu', 'vou', 'aprender', 'a', 'programar']"
      ]
     },
     "execution_count": 9,
     "metadata": {},
     "output_type": "execute_result"
    }
   ],
   "source": [
    "var"
   ]
  },
  {
   "cell_type": "code",
   "execution_count": 10,
   "metadata": {},
   "outputs": [
    {
     "name": "stdout",
     "output_type": "stream",
     "text": [
      "Eu\n",
      "vou\n",
      "aprender\n",
      "a\n",
      "programar\n"
     ]
    }
   ],
   "source": [
    "for palavra in var:\n",
    "   print (palavra)"
   ]
  },
  {
   "cell_type": "code",
   "execution_count": 13,
   "metadata": {},
   "outputs": [
    {
     "name": "stdout",
     "output_type": "stream",
     "text": [
      "[1, 2, 3, 4, 5, 6, 7, 8, 9, 10, 11, 12, 13, 14, 15, 16, 17, 18, 19, 20, 21, 22, 23, 24, 25, 26, 27, 28, 29, 30, 31]\n"
     ]
    }
   ],
   "source": [
    "# Loop for com o if\n",
    "\n",
    "dias_mes = list(range(1, 31))\n",
    "\n",
    "print(dias_mes)"
   ]
  },
  {
   "cell_type": "code",
   "execution_count": 14,
   "metadata": {},
   "outputs": [
    {
     "name": "stdout",
     "output_type": "stream",
     "text": [
      "Ja passou do dia 15. Hoje é dia:  26\n",
      "Ja passou do dia 15. Hoje é dia:  27\n",
      "Ja passou do dia 15. Hoje é dia:  28\n",
      "Ja passou do dia 15. Hoje é dia:  29\n",
      "Ja passou do dia 15. Hoje é dia:  30\n",
      "Ja passou do dia 15. Hoje é dia:  31\n"
     ]
    }
   ],
   "source": [
    "for dias in dias_mes:\n",
    "    if dias > 25:\n",
    "        print ('Ja passou do dia 15. Hoje é dia: ', dias)"
   ]
  },
  {
   "cell_type": "markdown",
   "metadata": {},
   "source": [
    "___________________________________________"
   ]
  },
  {
   "cell_type": "markdown",
   "metadata": {},
   "source": [
    "### Automação com Funções"
   ]
  },
  {
   "cell_type": "code",
   "execution_count": 15,
   "metadata": {},
   "outputs": [],
   "source": [
    "# Parametros da funçao\n",
    "\n",
    "ticker = \"^BVSP\"\n",
    "inicio = \"2015-01-01\"\n",
    "fim = \"2021-04-12\""
   ]
  },
  {
   "cell_type": "code",
   "execution_count": 16,
   "metadata": {},
   "outputs": [
    {
     "name": "stdout",
     "output_type": "stream",
     "text": [
      "[*********************100%***********************]  1 of 1 completed\n"
     ]
    }
   ],
   "source": [
    "ibov = pdr.get_data_yahoo(ticker, start = inicio, end = fim)"
   ]
  },
  {
   "cell_type": "code",
   "execution_count": 17,
   "metadata": {},
   "outputs": [],
   "source": [
    "def om_bollinger(data_frame, periodo, desvios, alvo):\n",
    "    \n",
    "    df = data_frame\n",
    "    df[\"desvio\"] = df[\"Adj Close\"].rolling(periodo).std()\n",
    "    df[\"MM\"] = df[\"Adj Close\"].rolling(periodo).mean()\n",
    "    df[\"Banda_Sup\"] = df[\"MM\"] + (df[\"desvio\"]*desvios)\n",
    "    df[\"Banda_Inf\"] = df[\"MM\"] - (df[\"desvio\"]*desvios)\n",
    "    \n",
    "    # Filtrando os valores missing\n",
    "    df = df.dropna(axis = 0) \n",
    "    \n",
    "    # Construcao dos alvos\n",
    "    df.loc[:, \"Retorno\"] = df[\"Adj Close\"].pct_change(alvo)\n",
    "    df.loc[:, \"Alvo\"] = df[\"Retorno\"].shift(-alvo)\n",
    "    \n",
    "    # Filtrando os valores missing\n",
    "    df = df.dropna(axis = 0) \n",
    "    \n",
    "    # Criando a regra de trade\n",
    "    df.loc[:, \"Regra\"] = np.where(df.loc[:, \"Adj Close\"] > df.loc[:, \"Banda_Sup\"], 1, 0)\n",
    "    df.loc[:, \"Regra\"] = np.where(df.loc[:, \"Adj Close\"] < df.loc[:, \"Banda_Inf\"], -1, df.loc[: , \"Regra\"])\n",
    "\n",
    "    # Aplicando a regra no alvo\n",
    "    df.loc[:, \"Trade\"] = df.loc[:, \"Regra\"]*df.loc[:, \"Alvo\"]\n",
    "    \n",
    "    # Calculando o resultado acumulado em juros simples\n",
    "    df.loc[:, \"Retorno_Trade_BB\"] = df[\"Trade\"].cumsum()*100\n",
    "    \n",
    "    return(df)"
   ]
  },
  {
   "cell_type": "code",
   "execution_count": 18,
   "metadata": {},
   "outputs": [],
   "source": [
    "periodos = [5, 10, 15, 20]\n",
    "resultado = 0\n",
    "melhor_periodo = 0"
   ]
  },
  {
   "cell_type": "code",
   "execution_count": 19,
   "metadata": {},
   "outputs": [],
   "source": [
    "for periodo in periodos:\n",
    "    aux = om_bollinger(ibov, periodo, 2, 5).iloc[-1][-1]\n",
    "    if aux > resultado:\n",
    "        resultado = aux\n",
    "        melhor_periodo = periodo"
   ]
  },
  {
   "cell_type": "code",
   "execution_count": 20,
   "metadata": {},
   "outputs": [
    {
     "name": "stdout",
     "output_type": "stream",
     "text": [
      "94.75663248894679\n",
      "20\n"
     ]
    }
   ],
   "source": [
    "print(resultado)\n",
    "print(melhor_periodo)"
   ]
  },
  {
   "cell_type": "code",
   "execution_count": 21,
   "metadata": {},
   "outputs": [
    {
     "data": {
      "text/plain": [
       "94.75663248894679"
      ]
     },
     "execution_count": 21,
     "metadata": {},
     "output_type": "execute_result"
    }
   ],
   "source": [
    "om_bollinger(ibov, melhor_periodo, 2, 5).iloc[-1][-1]"
   ]
  },
  {
   "cell_type": "code",
   "execution_count": 22,
   "metadata": {},
   "outputs": [],
   "source": [
    "periodos = [5, 10, 15, 20, 25]\n",
    "desvios = [1, 1.5, 2, 2.5, 3]\n",
    "resultado = 0\n",
    "melhor_periodo = 0\n",
    "melhor_desvio = 0"
   ]
  },
  {
   "cell_type": "code",
   "execution_count": 23,
   "metadata": {},
   "outputs": [],
   "source": [
    "for periodo in periodos:\n",
    "    for desvio in desvios:\n",
    "        aux = om_bollinger(ibov, periodo, desvio, 5).iloc[-1][-1]\n",
    "        if aux > resultado:\n",
    "            resultado = aux\n",
    "            melhor_periodo = periodo\n",
    "            melhor_desvio = desvio"
   ]
  },
  {
   "cell_type": "code",
   "execution_count": 24,
   "metadata": {},
   "outputs": [
    {
     "name": "stdout",
     "output_type": "stream",
     "text": [
      "334.12086858607034\n",
      "25\n",
      "1\n"
     ]
    }
   ],
   "source": [
    "print(resultado)\n",
    "print(melhor_periodo)\n",
    "print(melhor_desvio)"
   ]
  },
  {
   "cell_type": "code",
   "execution_count": 25,
   "metadata": {},
   "outputs": [],
   "source": [
    "periodos = [5, 10, 15, 20, 25]\n",
    "desvios = [1, 1.5, 2, 2.5, 3]\n",
    "alvos = [1, 2, 3, 4, 5, 6, 7, 8, 9, 10]\n",
    "resultado = 0\n",
    "melhor_periodo = 0\n",
    "melhor_desvio = 0\n",
    "melhor_alvo = 0"
   ]
  },
  {
   "cell_type": "code",
   "execution_count": 26,
   "metadata": {},
   "outputs": [],
   "source": [
    "for periodo in periodos:\n",
    "    for desvio in desvios:\n",
    "        for alvo in alvos:\n",
    "            aux = om_bollinger(ibov, periodo, desvio, alvo).iloc[-1][-1]\n",
    "            if aux > resultado:\n",
    "                resultado = aux\n",
    "                melhor_periodo = periodo\n",
    "                melhor_desvio = desvio\n",
    "                melhor_alvo = alvo"
   ]
  },
  {
   "cell_type": "code",
   "execution_count": 27,
   "metadata": {},
   "outputs": [
    {
     "name": "stdout",
     "output_type": "stream",
     "text": [
      "854.9651892911697\n",
      "25\n",
      "1\n",
      "10\n"
     ]
    }
   ],
   "source": [
    "print(resultado)\n",
    "print(melhor_periodo)\n",
    "print(melhor_desvio)\n",
    "print(melhor_alvo)"
   ]
  },
  {
   "cell_type": "code",
   "execution_count": 28,
   "metadata": {},
   "outputs": [],
   "source": [
    "# Funçao para plotar o grafico\n",
    "\n",
    "def plot_resultado(data_frame):\n",
    "    data_frame[\"Retorno_Trade_BB\"].plot(figsize=(20, 15), linewidth = 3, fontsize = 15, color = \"green\")\n",
    "    plt.xlabel(\"Data\"\n",
    "           , fontsize = 15);\n",
    "    plt.ylabel(\"%\"\n",
    "           , fontsize = 15);\n",
    "    plt.title(\"Resultado BB Trading - Python Finanças Quantitativas\"\n",
    "           , fontsize = 25)\n",
    "    plt.legend();"
   ]
  },
  {
   "cell_type": "code",
   "execution_count": 29,
   "metadata": {},
   "outputs": [
    {
     "data": {
      "image/png": "[encoded data removed]",
      "text/plain": [
       "<Figure size 1440x1080 with 1 Axes>"
      ]
     },
     "metadata": {
      "needs_background": "light"
     },
     "output_type": "display_data"
    }
   ],
   "source": [
    "plot_resultado(om_bollinger(ibov, melhor_periodo, melhor_desvio, melhor_alvo))"
   ]
  }
 ],
 "metadata": {
  "kernelspec": {
   "display_name": "Python 3",
   "language": "python",
   "name": "python3"
  },
  "language_info": {
   "codemirror_mode": {
    "name": "ipython",
    "version": 3
   },
   "file_extension": ".py",
   "mimetype": "text/x-python",
   "name": "python",
   "nbconvert_exporter": "python",
   "pygments_lexer": "ipython3",
   "version": "3.8.5"
  }
 },
 "nbformat": 4,
 "nbformat_minor": 4
}
