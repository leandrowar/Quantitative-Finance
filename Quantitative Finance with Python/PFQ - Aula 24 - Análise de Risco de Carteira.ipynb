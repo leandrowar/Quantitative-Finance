{
 "cells": [
  {
   "cell_type": "code",
   "execution_count": 180,
   "id": "975a7ef8",
   "metadata": {},
   "outputs": [],
   "source": [
    "import numpy as np\n",
    "from numpy import sqrt, log, exp, pi\n",
    "import pandas as pd\n",
    "import scipy.stats\n",
    "from scipy.stats import norm\n",
    "\n",
    "from math import sqrt\n",
    "\n",
    "import plotly.graph_objects as go\n",
    "from plotly.subplots import make_subplots\n",
    "import plotly.express as px\n",
    "import matplotlib.pyplot as plt\n",
    "\n",
    "from numpy import mean, absolute\n",
    "import yfinance as yf\n",
    "\n",
    "from scipy.optimize import minimize\n",
    "\n",
    "\n",
    "import warnings\n",
    "warnings.filterwarnings(\"ignore\")\n"
   ]
  },
  {
   "cell_type": "code",
   "execution_count": 224,
   "id": "500727eb",
   "metadata": {},
   "outputs": [
    {
     "name": "stdout",
     "output_type": "stream",
     "text": [
      "[*********************100%***********************]  11 of 11 completed\n"
     ]
    }
   ],
   "source": [
    "# Definindo as ações e o período de análise\n",
    "acoes = [\"PETR4.SA\", \"VALE3.SA\", \"ITUB4.SA\", \"GGBR4.SA\", \"BRL=X\", \"CSNA3.SA\", \"CMIG4.SA\", \"BBDC4.SA\", \"BBSE3.SA\", \"B3SA3.SA\", \"ABEV3.SA\"]\n",
    "inicio = \"2016-01-01\"\n",
    "fim = \"2016-12-31\"\n",
    "\n",
    "# Baixando os dados do Yahoo Finance\n",
    "dados = yf.download(acoes, start = inicio, end = fim)[\"Adj Close\"]\n",
    "\n",
    "# Calculando os retornos diários\n",
    "retornos = dados.pct_change().dropna()\n",
    "\n",
    "# Calculando a média e o desvio padrão dos retornos\n",
    "media_retornos = retornos.mean()\n",
    "desvio_padrao = retornos.std()\n"
   ]
  },
  {
   "cell_type": "code",
   "execution_count": 225,
   "id": "eec4d9ab",
   "metadata": {},
   "outputs": [
    {
     "data": {
      "application/vnd.plotly.v1+json": {
       "config": {
        "plotlyServerURL": "https://plot.ly"
       },
       "data": [
        {
         "mode": "markers+text",
         "text": [
          "PETR4.SA",
          "VALE3.SA",
          "ITUB4.SA",
          "GGBR4.SA",
          "BRL=X",
          "CSNA3.SA",
          "CMIG4.SA",
          "BBDC4.SA",
          "BBSE3.SA",
          "B3SA3.SA",
          "ABEV3.SA"
         ],
         "textposition": "top center",
         "type": "scatter",
         "x": [
          1.3175405173904193,
          2.251294561585313,
          2.598411014519399,
          2.4026716353909157,
          1.1714446624587447,
          3.7902497412386604,
          5.130264710917024,
          4.197552733637107,
          2.19883416092061,
          3.9507346740267777,
          4.1597945415693465
         ],
         "y": [
          0.003829499346076138,
          0.2134828360266847,
          0.25243965997033974,
          0.13550314649313389,
          -0.06811239269446293,
          0.22756183729433876,
          0.5281954767702322,
          0.42415514505673646,
          0.19826510485524998,
          0.37565759765208634,
          0.3609316608863218
         ]
        }
       ],
       "layout": {
        "height": 800,
        "hovermode": "x",
        "template": {
         "data": {
          "bar": [
           {
            "error_x": {
             "color": "#2a3f5f"
            },
            "error_y": {
             "color": "#2a3f5f"
            },
            "marker": {
             "line": {
              "color": "#E5ECF6",
              "width": 0.5
             },
             "pattern": {
              "fillmode": "overlay",
              "size": 10,
              "solidity": 0.2
             }
            },
            "type": "bar"
           }
          ],
          "barpolar": [
           {
            "marker": {
             "line": {
              "color": "#E5ECF6",
              "width": 0.5
             },
             "pattern": {
              "fillmode": "overlay",
              "size": 10,
              "solidity": 0.2
             }
            },
            "type": "barpolar"
           }
          ],
          "carpet": [
           {
            "aaxis": {
             "endlinecolor": "#2a3f5f",
             "gridcolor": "white",
             "linecolor": "white",
             "minorgridcolor": "white",
             "startlinecolor": "#2a3f5f"
            },
            "baxis": {
             "endlinecolor": "#2a3f5f",
             "gridcolor": "white",
             "linecolor": "white",
             "minorgridcolor": "white",
             "startlinecolor": "#2a3f5f"
            },
            "type": "carpet"
           }
          ],
          "choropleth": [
           {
            "colorbar": {
             "outlinewidth": 0,
             "ticks": ""
            },
            "type": "choropleth"
           }
          ],
          "contour": [
           {
            "colorbar": {
             "outlinewidth": 0,
             "ticks": ""
            },
            "colorscale": [
             [
              0,
              "#0d0887"
             ],
             [
              0.1111111111111111,
              "#46039f"
             ],
             [
              0.2222222222222222,
              "#7201a8"
             ],
             [
              0.3333333333333333,
              "#9c179e"
             ],
             [
              0.4444444444444444,
              "#bd3786"
             ],
             [
              0.5555555555555556,
              "#d8576b"
             ],
             [
              0.6666666666666666,
              "#ed7953"
             ],
             [
              0.7777777777777778,
              "#fb9f3a"
             ],
             [
              0.8888888888888888,
              "#fdca26"
             ],
             [
              1,
              "#f0f921"
             ]
            ],
            "type": "contour"
           }
          ],
          "contourcarpet": [
           {
            "colorbar": {
             "outlinewidth": 0,
             "ticks": ""
            },
            "type": "contourcarpet"
           }
          ],
          "heatmap": [
           {
            "colorbar": {
             "outlinewidth": 0,
             "ticks": ""
            },
            "colorscale": [
             [
              0,
              "#0d0887"
             ],
             [
              0.1111111111111111,
              "#46039f"
             ],
             [
              0.2222222222222222,
              "#7201a8"
             ],
             [
              0.3333333333333333,
              "#9c179e"
             ],
             [
              0.4444444444444444,
              "#bd3786"
             ],
             [
              0.5555555555555556,
              "#d8576b"
             ],
             [
              0.6666666666666666,
              "#ed7953"
             ],
             [
              0.7777777777777778,
              "#fb9f3a"
             ],
             [
              0.8888888888888888,
              "#fdca26"
             ],
             [
              1,
              "#f0f921"
             ]
            ],
            "type": "heatmap"
           }
          ],
          "heatmapgl": [
           {
            "colorbar": {
             "outlinewidth": 0,
             "ticks": ""
            },
            "colorscale": [
             [
              0,
              "#0d0887"
             ],
             [
              0.1111111111111111,
              "#46039f"
             ],
             [
              0.2222222222222222,
              "#7201a8"
             ],
             [
              0.3333333333333333,
              "#9c179e"
             ],
             [
              0.4444444444444444,
              "#bd3786"
             ],
             [
              0.5555555555555556,
              "#d8576b"
             ],
             [
              0.6666666666666666,
              "#ed7953"
             ],
             [
              0.7777777777777778,
              "#fb9f3a"
             ],
             [
              0.8888888888888888,
              "#fdca26"
             ],
             [
              1,
              "#f0f921"
             ]
            ],
            "type": "heatmapgl"
           }
          ],
          "histogram": [
           {
            "marker": {
             "pattern": {
              "fillmode": "overlay",
              "size": 10,
              "solidity": 0.2
             }
            },
            "type": "histogram"
           }
          ],
          "histogram2d": [
           {
            "colorbar": {
             "outlinewidth": 0,
             "ticks": ""
            },
            "colorscale": [
             [
              0,
              "#0d0887"
             ],
             [
              0.1111111111111111,
              "#46039f"
             ],
             [
              0.2222222222222222,
              "#7201a8"
             ],
             [
              0.3333333333333333,
              "#9c179e"
             ],
             [
              0.4444444444444444,
              "#bd3786"
             ],
             [
              0.5555555555555556,
              "#d8576b"
             ],
             [
              0.6666666666666666,
              "#ed7953"
             ],
             [
              0.7777777777777778,
              "#fb9f3a"
             ],
             [
              0.8888888888888888,
              "#fdca26"
             ],
             [
              1,
              "#f0f921"
             ]
            ],
            "type": "histogram2d"
           }
          ],
          "histogram2dcontour": [
           {
            "colorbar": {
             "outlinewidth": 0,
             "ticks": ""
            },
            "colorscale": [
             [
              0,
              "#0d0887"
             ],
             [
              0.1111111111111111,
              "#46039f"
             ],
             [
              0.2222222222222222,
              "#7201a8"
             ],
             [
              0.3333333333333333,
              "#9c179e"
             ],
             [
              0.4444444444444444,
              "#bd3786"
             ],
             [
              0.5555555555555556,
              "#d8576b"
             ],
             [
              0.6666666666666666,
              "#ed7953"
             ],
             [
              0.7777777777777778,
              "#fb9f3a"
             ],
             [
              0.8888888888888888,
              "#fdca26"
             ],
             [
              1,
              "#f0f921"
             ]
            ],
            "type": "histogram2dcontour"
           }
          ],
          "mesh3d": [
           {
            "colorbar": {
             "outlinewidth": 0,
             "ticks": ""
            },
            "type": "mesh3d"
           }
          ],
          "parcoords": [
           {
            "line": {
             "colorbar": {
              "outlinewidth": 0,
              "ticks": ""
             }
            },
            "type": "parcoords"
           }
          ],
          "pie": [
           {
            "automargin": true,
            "type": "pie"
           }
          ],
          "scatter": [
           {
            "marker": {
             "colorbar": {
              "outlinewidth": 0,
              "ticks": ""
             }
            },
            "type": "scatter"
           }
          ],
          "scatter3d": [
           {
            "line": {
             "colorbar": {
              "outlinewidth": 0,
              "ticks": ""
             }
            },
            "marker": {
             "colorbar": {
              "outlinewidth": 0,
              "ticks": ""
             }
            },
            "type": "scatter3d"
           }
          ],
          "scattercarpet": [
           {
            "marker": {
             "colorbar": {
              "outlinewidth": 0,
              "ticks": ""
             }
            },
            "type": "scattercarpet"
           }
          ],
          "scattergeo": [
           {
            "marker": {
             "colorbar": {
              "outlinewidth": 0,
              "ticks": ""
             }
            },
            "type": "scattergeo"
           }
          ],
          "scattergl": [
           {
            "marker": {
             "colorbar": {
              "outlinewidth": 0,
              "ticks": ""
             }
            },
            "type": "scattergl"
           }
          ],
          "scattermapbox": [
           {
            "marker": {
             "colorbar": {
              "outlinewidth": 0,
              "ticks": ""
             }
            },
            "type": "scattermapbox"
           }
          ],
          "scatterpolar": [
           {
            "marker": {
             "colorbar": {
              "outlinewidth": 0,
              "ticks": ""
             }
            },
            "type": "scatterpolar"
           }
          ],
          "scatterpolargl": [
           {
            "marker": {
             "colorbar": {
              "outlinewidth": 0,
              "ticks": ""
             }
            },
            "type": "scatterpolargl"
           }
          ],
          "scatterternary": [
           {
            "marker": {
             "colorbar": {
              "outlinewidth": 0,
              "ticks": ""
             }
            },
            "type": "scatterternary"
           }
          ],
          "surface": [
           {
            "colorbar": {
             "outlinewidth": 0,
             "ticks": ""
            },
            "colorscale": [
             [
              0,
              "#0d0887"
             ],
             [
              0.1111111111111111,
              "#46039f"
             ],
             [
              0.2222222222222222,
              "#7201a8"
             ],
             [
              0.3333333333333333,
              "#9c179e"
             ],
             [
              0.4444444444444444,
              "#bd3786"
             ],
             [
              0.5555555555555556,
              "#d8576b"
             ],
             [
              0.6666666666666666,
              "#ed7953"
             ],
             [
              0.7777777777777778,
              "#fb9f3a"
             ],
             [
              0.8888888888888888,
              "#fdca26"
             ],
             [
              1,
              "#f0f921"
             ]
            ],
            "type": "surface"
           }
          ],
          "table": [
           {
            "cells": {
             "fill": {
              "color": "#EBF0F8"
             },
             "line": {
              "color": "white"
             }
            },
            "header": {
             "fill": {
              "color": "#C8D4E3"
             },
             "line": {
              "color": "white"
             }
            },
            "type": "table"
           }
          ]
         },
         "layout": {
          "annotationdefaults": {
           "arrowcolor": "#2a3f5f",
           "arrowhead": 0,
           "arrowwidth": 1
          },
          "autotypenumbers": "strict",
          "coloraxis": {
           "colorbar": {
            "outlinewidth": 0,
            "ticks": ""
           }
          },
          "colorscale": {
           "diverging": [
            [
             0,
             "#8e0152"
            ],
            [
             0.1,
             "#c51b7d"
            ],
            [
             0.2,
             "#de77ae"
            ],
            [
             0.3,
             "#f1b6da"
            ],
            [
             0.4,
             "#fde0ef"
            ],
            [
             0.5,
             "#f7f7f7"
            ],
            [
             0.6,
             "#e6f5d0"
            ],
            [
             0.7,
             "#b8e186"
            ],
            [
             0.8,
             "#7fbc41"
            ],
            [
             0.9,
             "#4d9221"
            ],
            [
             1,
             "#276419"
            ]
           ],
           "sequential": [
            [
             0,
             "#0d0887"
            ],
            [
             0.1111111111111111,
             "#46039f"
            ],
            [
             0.2222222222222222,
             "#7201a8"
            ],
            [
             0.3333333333333333,
             "#9c179e"
            ],
            [
             0.4444444444444444,
             "#bd3786"
            ],
            [
             0.5555555555555556,
             "#d8576b"
            ],
            [
             0.6666666666666666,
             "#ed7953"
            ],
            [
             0.7777777777777778,
             "#fb9f3a"
            ],
            [
             0.8888888888888888,
             "#fdca26"
            ],
            [
             1,
             "#f0f921"
            ]
           ],
           "sequentialminus": [
            [
             0,
             "#0d0887"
            ],
            [
             0.1111111111111111,
             "#46039f"
            ],
            [
             0.2222222222222222,
             "#7201a8"
            ],
            [
             0.3333333333333333,
             "#9c179e"
            ],
            [
             0.4444444444444444,
             "#bd3786"
            ],
            [
             0.5555555555555556,
             "#d8576b"
            ],
            [
             0.6666666666666666,
             "#ed7953"
            ],
            [
             0.7777777777777778,
             "#fb9f3a"
            ],
            [
             0.8888888888888888,
             "#fdca26"
            ],
            [
             1,
             "#f0f921"
            ]
           ]
          },
          "colorway": [
           "#636efa",
           "#EF553B",
           "#00cc96",
           "#ab63fa",
           "#FFA15A",
           "#19d3f3",
           "#FF6692",
           "#B6E880",
           "#FF97FF",
           "#FECB52"
          ],
          "font": {
           "color": "#2a3f5f"
          },
          "geo": {
           "bgcolor": "white",
           "lakecolor": "white",
           "landcolor": "#E5ECF6",
           "showlakes": true,
           "showland": true,
           "subunitcolor": "white"
          },
          "hoverlabel": {
           "align": "left"
          },
          "hovermode": "closest",
          "mapbox": {
           "style": "light"
          },
          "paper_bgcolor": "white",
          "plot_bgcolor": "#E5ECF6",
          "polar": {
           "angularaxis": {
            "gridcolor": "white",
            "linecolor": "white",
            "ticks": ""
           },
           "bgcolor": "#E5ECF6",
           "radialaxis": {
            "gridcolor": "white",
            "linecolor": "white",
            "ticks": ""
           }
          },
          "scene": {
           "xaxis": {
            "backgroundcolor": "#E5ECF6",
            "gridcolor": "white",
            "gridwidth": 2,
            "linecolor": "white",
            "showbackground": true,
            "ticks": "",
            "zerolinecolor": "white"
           },
           "yaxis": {
            "backgroundcolor": "#E5ECF6",
            "gridcolor": "white",
            "gridwidth": 2,
            "linecolor": "white",
            "showbackground": true,
            "ticks": "",
            "zerolinecolor": "white"
           },
           "zaxis": {
            "backgroundcolor": "#E5ECF6",
            "gridcolor": "white",
            "gridwidth": 2,
            "linecolor": "white",
            "showbackground": true,
            "ticks": "",
            "zerolinecolor": "white"
           }
          },
          "shapedefaults": {
           "line": {
            "color": "#2a3f5f"
           }
          },
          "ternary": {
           "aaxis": {
            "gridcolor": "white",
            "linecolor": "white",
            "ticks": ""
           },
           "baxis": {
            "gridcolor": "white",
            "linecolor": "white",
            "ticks": ""
           },
           "bgcolor": "#E5ECF6",
           "caxis": {
            "gridcolor": "white",
            "linecolor": "white",
            "ticks": ""
           }
          },
          "title": {
           "x": 0.05
          },
          "xaxis": {
           "automargin": true,
           "gridcolor": "white",
           "linecolor": "white",
           "ticks": "",
           "title": {
            "standoff": 15
           },
           "zerolinecolor": "white",
           "zerolinewidth": 2
          },
          "yaxis": {
           "automargin": true,
           "gridcolor": "white",
           "linecolor": "white",
           "ticks": "",
           "title": {
            "standoff": 15
           },
           "zerolinecolor": "white",
           "zerolinewidth": 2
          }
         }
        },
        "title": {
         "text": "Risco vs Retorno Esperado"
        },
        "width": 800,
        "xaxis": {
         "title": {
          "text": "Risco (Desvio Padrão)"
         }
        },
        "yaxis": {
         "title": {
          "text": "Retorno Esperado"
         }
        }
       }
      }
     },
     "metadata": {},
     "output_type": "display_data"
    }
   ],
   "source": [
    "# Criando o gráfico de dispersão com Plotly\n",
    "fig = go.Figure()\n",
    "\n",
    "# Adicionando os pontos ao gráfico\n",
    "fig.add_trace(go.Scatter(\n",
    "    x = desvio_padrao*100,\n",
    "    y = media_retornos*100,\n",
    "    mode = \"markers+text\",\n",
    "    text = acoes,\n",
    "    textposition = \"top center\"\n",
    "))\n",
    "\n",
    "# Configurando os títulos dos eixos\n",
    "fig.update_layout(\n",
    "    height = 800, width = 800,\n",
    "    title = \"Risco vs Retorno Esperado\",\n",
    "    xaxis_title = \"Risco (Desvio Padrão)\",\n",
    "    yaxis_title = \"Retorno Esperado\"\n",
    ")\n",
    "\n",
    "fig.update_layout(hovermode = \"x\")\n",
    "\n",
    "\n",
    "# Exibindo o gráfico\n",
    "fig.show()\n"
   ]
  },
  {
   "cell_type": "code",
   "execution_count": 226,
   "metadata": {},
   "outputs": [
    {
     "name": "stdout",
     "output_type": "stream",
     "text": [
      "Carteira:  ['PETR4.SA', 'VALE3.SA', 'ITUB4.SA', 'GGBR4.SA', 'BRL=X', 'CSNA3.SA', 'CMIG4.SA', 'BBDC4.SA', 'BBSE3.SA', 'B3SA3.SA', 'ABEV3.SA']\n",
      "Pesos Otimizados: [0.   0.37 0.17 0.   0.   0.   0.11 0.18 0.02 0.07 0.08]\n"
     ]
    }
   ],
   "source": [
    "# Função para calcular retorno, volatilidade e Sharpe Ratio de um portfólio\n",
    "def get_ret_vol_sr(weights):\n",
    "    weights = np.array(weights/100)\n",
    "    ret = np.sum(retornos.mean() * weights * 252)  # Retorno anualizado\n",
    "    vol = np.sqrt(np.dot(weights.T, np.dot(retornos.cov()*252, weights)))  # Volatilidade anualizada\n",
    "    sr = ret/vol  # Sharpe Ratio\n",
    "    return np.array([ret, vol, sr])\n",
    "\n",
    "# Função para minimização (negativo do Sharpe Ratio)\n",
    "def neg_sharpe(weights):\n",
    "    return get_ret_vol_sr(weights)[2] * -1\n",
    "\n",
    "# Restrições (soma dos pesos igual a 1)\n",
    "cons = ({\"type\":\"eq\",\"fun\": lambda x: np.sum(x) - 1})\n",
    "\n",
    "# Limites para os pesos (entre 0 e 1 para cada ativo)\n",
    "bounds = ((0, 1), (0, 1), (0, 1), (0, 1), (0, 1), (0, 1), (0, 1), (0, 1), (0, 1), (0, 1), (0, 1))\n",
    "\n",
    "# Palpite inicial (distribuição igualitária dos pesos)\n",
    "init_guess = [1/len(acoes)]*len(acoes)\n",
    "\n",
    "# Otimização para encontrar os pesos que maximizam o Sharpe Ratio\n",
    "opt_results = minimize(neg_sharpe, init_guess, method = \"SLSQP\", bounds = bounds, constraints = cons)\n",
    "\n",
    "# Pesos otimizados para o portfólio\n",
    "optimal_weights = np.round(opt_results.x, 2)\n",
    "\n",
    "print(\"Carteira: \", acoes)\n",
    "print(\"Pesos Otimizados:\", optimal_weights)\n"
   ]
  },
  {
   "cell_type": "code",
   "execution_count": 227,
   "metadata": {},
   "outputs": [
    {
     "name": "stdout",
     "output_type": "stream",
     "text": [
      "['VALE3.SA', 'ITUB4.SA', 'CMIG4.SA', 'BBDC4.SA', 'BBSE3.SA', 'B3SA3.SA', 'ABEV3.SA']\n",
      "[0.37, 0.17, 0.11, 0.18, 0.02, 0.07, 0.08]\n"
     ]
    }
   ],
   "source": [
    "carteira = acoes\n",
    "pesos_otimizados = optimal_weights\n",
    "\n",
    "# Combinando os tickers com seus respectivos pesos\n",
    "combinados = zip(carteira, pesos_otimizados)\n",
    "\n",
    "# Filtrando os tickers que têm peso maior que zero\n",
    "acoes_com_peso = [ticker for ticker, peso in combinados if peso > 0]\n",
    "\n",
    "print(acoes_com_peso)\n",
    "\n",
    "# Filtrando para manter apenas os pesos não nulos\n",
    "pesos_nao_nulos = [peso for peso in pesos_otimizados if peso > 0]\n",
    "\n",
    "print(pesos_nao_nulos)"
   ]
  },
  {
   "cell_type": "code",
   "execution_count": 229,
   "metadata": {},
   "outputs": [
    {
     "name": "stdout",
     "output_type": "stream",
     "text": [
      "[*********************100%***********************]  7 of 7 completed\n",
      "[*********************100%***********************]  1 of 1 completed\n",
      "Retorno Acumulado com Pesos Otimizados: 30.54\n",
      "Risco com Pesos Otimizados: 16.68\n",
      "Retorno Acumulado com Pesos Iguais: 29.58\n",
      "Risco com Pesos Iguais: 20.61\n",
      "Retorno Acumulado do Índice Bovespa: 27.3\n",
      "Risco do Índice Bovespa: 19.03\n"
     ]
    }
   ],
   "source": [
    "# Baixando dados históricos de 202X\n",
    "dados = yf.download(acoes_com_peso, start = \"2017-01-01\", end = \"2017-12-31\")[\"Adj Close\"]\n",
    "dados_indice = yf.download(\"^BVSP\", start = \"2017-01-01\", end = \"2017-12-31\")[\"Adj Close\"]\n",
    "\n",
    "\n",
    "# Calculando retornos diários\n",
    "retornos_diarios = dados.pct_change().dropna()\n",
    "retornos_diarios_indice = dados_indice.pct_change().dropna()\n",
    "\n",
    "\n",
    "# Calculando retorno acumulado para a carteira com pesos otimizados\n",
    "retorno_acumulado_otimizado = np.sum((retornos_diarios * pesos_nao_nulos).mean()) * 252\n",
    "\n",
    "# Calculando o risco (desvio padrão) da carteira com pesos otimizados\n",
    "risco_otimizado = np.sqrt(np.dot(pesos_nao_nulos, np.dot(retornos_diarios.cov() * 252, pesos_nao_nulos)))\n",
    "risco_indice = retornos_diarios_indice.std() * np.sqrt(252)\n",
    "\n",
    "\n",
    "# Considerando pesos iguais para todas as ações\n",
    "pesos_iguais = [1/len(acoes_com_peso)] * len(acoes_com_peso)\n",
    "\n",
    "# Calculando retorno acumulado para a carteira com pesos iguais\n",
    "retorno_acumulado_igual = np.sum((retornos_diarios * pesos_iguais).mean()) * 252\n",
    "\n",
    "# Calculando retorno acumulado e risco do índice\n",
    "retorno_acumulado_indice = retornos_diarios_indice.mean() * 252\n",
    "risco_indice = retornos_diarios_indice.std() * np.sqrt(252)\n",
    "\n",
    "# Calculando o risco da carteira com pesos iguais\n",
    "risco_igual = np.sqrt(np.dot(pesos_iguais, np.dot(retornos_diarios.cov() * 252, pesos_iguais)))\n",
    "\n",
    "print(f\"Retorno Acumulado com Pesos Otimizados: {np.round(retorno_acumulado_otimizado*100, 2)}\")\n",
    "print(f\"Risco com Pesos Otimizados: {np.round(risco_otimizado*100, 2)}\")\n",
    "print(f\"Retorno Acumulado com Pesos Iguais: {np.round(retorno_acumulado_igual*100, 2)}\")\n",
    "print(f\"Risco com Pesos Iguais: {np.round(risco_igual*100, 2)}\")\n",
    "print(f\"Retorno Acumulado do Índice Bovespa: {np.round(retorno_acumulado_indice*100, 2)}\")\n",
    "print(f\"Risco do Índice Bovespa: {np.round(risco_indice*100, 2)}\")"
   ]
  },
  {
   "cell_type": "code",
   "execution_count": 223,
   "metadata": {},
   "outputs": [
    {
     "name": "stdout",
     "output_type": "stream",
     "text": [
      "Value at Risk (95% de confiança): 1.83\n"
     ]
    }
   ],
   "source": [
    "# Assumindo que \"retornos\" é um DataFrame com os retornos diários das ações\n",
    "portfolio_retornos = retornos.dot(optimal_weights)\n",
    "\n",
    "# Definindo o nível de confiança (por exemplo, 95%)\n",
    "confianca = 0.05\n",
    "\n",
    "# Calculando o VaR histórico\n",
    "VaR_95 = portfolio_retornos.quantile(confianca)\n",
    "\n",
    "print(f\"Value at Risk (95% de confiança): {np.round(VaR_95*100, 2)}\")\n"
   ]
  }
 ],
 "metadata": {
  "kernelspec": {
   "display_name": "Python 3 (ipykernel)",
   "language": "python",
   "name": "python3"
  },
  "language_info": {
   "codemirror_mode": {
    "name": "ipython",
    "version": 3
   },
   "file_extension": ".py",
   "mimetype": "text/x-python",
   "name": "python",
   "nbconvert_exporter": "python",
   "pygments_lexer": "ipython3",
   "version": "3.8.10"
  }
 },
 "nbformat": 4,
 "nbformat_minor": 5
}
