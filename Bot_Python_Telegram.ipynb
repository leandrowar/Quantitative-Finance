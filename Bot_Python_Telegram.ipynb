{
 "cells": [
  {
   "cell_type": "markdown",
   "id": "24587406",
   "metadata": {},
   "source": [
    "# Bot Python + Telegram"
   ]
  },
  {
   "cell_type": "markdown",
   "id": "576ec1bb",
   "metadata": {},
   "source": [
    "### Objetivo\n",
    "\n",
    "Criar um script em Python que:\n",
    "1.\tConsulta o preço atual do BTC na Binance\n",
    "2.\tEnvia o valor para o Telegram\n",
    "3.\tProtege os dados sensíveis usando .env\n",
    "4.\tExecuta periodicamente com time.sleep()"
   ]
  },
  {
   "cell_type": "markdown",
   "id": "8e190574",
   "metadata": {},
   "source": [
    "### Pré-requisitos\n",
    "1.\tCriar um bot no Telegram via @BotFather\n",
    "2.\tObter seu chat_id enviando uma mensagem ao bot e consultando a API\n",
    "3.\tCriar um arquivo .env com as credenciais\n",
    "4.\tInstalar bibliotecas necessárias"
   ]
  },
  {
   "cell_type": "markdown",
   "id": "79dedcc2",
   "metadata": {},
   "source": [
    "### Estrutura final do projeto\n",
    "\n",
    "- /preco_btc_bot/\n",
    "-  │\n",
    "-  ├── bot_binance.py     ← seu script Python\n",
    "-  └── .env               ← credenciais privadas"
   ]
  },
  {
   "cell_type": "markdown",
   "id": "b81f50aa",
   "metadata": {},
   "source": [
    "### Etapa 1 – Criar o Bot e pegar o Token\n",
    "1.\tFale com @BotFather\n",
    "2.\tEnvie /newbot, dê um nome e um username\n",
    "3.\tAnote o token do bot, que será algo como: 123456789:AAEJHJ23gakljhdgaskjhdgkashdgkj"
   ]
  },
  {
   "cell_type": "markdown",
   "id": "a09f4dce",
   "metadata": {},
   "source": [
    "### Etapa 2 – Descobrir o chat_id\n",
    "\n",
    "Envie uma mensagem qualquer para seu bot no Telegram, depois execute este código:"
   ]
  },
  {
   "cell_type": "code",
   "execution_count": null,
   "id": "236d161c",
   "metadata": {},
   "outputs": [],
   "source": [
    "import requests\n",
    "\n",
    "BOT_TOKEN = 'SEU:TOKEN'\n",
    "\n",
    "# Retorna a última mensagem recebida pelo bot\n",
    "response = requests.get(f'https://api.telegram.org/bot{BOT_TOKEN}/getUpdates')\n",
    "print(response.json())"
   ]
  },
  {
   "cell_type": "markdown",
   "id": "731959cb",
   "metadata": {},
   "source": [
    "### Etapa 3 – Criar o arquivo .env\n",
    "\n",
    "Crie um arquivo no mesmo diretório do seu script com o nome .env:"
   ]
  },
  {
   "cell_type": "markdown",
   "id": "1d9253e1",
   "metadata": {},
   "source": [
    "### Etapa 4 – Instalar dependências - se necessário\n",
    "\n",
    "Use o pip: pip install requests python-dotenv"
   ]
  },
  {
   "cell_type": "markdown",
   "id": "867f0b0d",
   "metadata": {},
   "source": [
    "### Etapa 5 – Código Python"
   ]
  },
  {
   "cell_type": "code",
   "execution_count": null,
   "id": "2b13410f",
   "metadata": {},
   "outputs": [],
   "source": [
    "import requests\n",
    "import time\n",
    "import os\n",
    "from dotenv import load_dotenv\n",
    "\n",
    "# Carrega as variáveis de ambiente do arquivo .env\n",
    "load_dotenv()\n",
    "BOT_TOKEN = os.getenv('BOT_TOKEN')\n",
    "CHAT_ID = os.getenv('CHAT_ID')\n",
    "\n",
    "# Obtém o preço do Bitcoin via API pública da Binance\n",
    "def get_btc_price():\n",
    "    url = 'https://api.binance.com/api/v3/ticker/price?symbol=BTCUSDT'\n",
    "    response = requests.get(url)\n",
    "    data = response.json()\n",
    "    return float(data['price'])\n",
    "\n",
    "# Envia uma mensagem para o Telegram com preço\n",
    "def send_to_telegram(message, bot_token, chat_id):\n",
    "    url = f'https://api.telegram.org/bot{bot_token}/sendMessage'\n",
    "    payload = {\n",
    "        'chat_id': chat_id,\n",
    "        'text': message\n",
    "    }\n",
    "    response = requests.post(url, data=payload)\n",
    "    return response.status_code"
   ]
  },
  {
   "cell_type": "code",
   "execution_count": null,
   "id": "b7e5b6b1",
   "metadata": {},
   "outputs": [],
   "source": [
    "# Loop infinito que envia o preço do Bitcoin a cada intervalo\n",
    "while True:\n",
    "    try:\n",
    "        price = get_btc_price()\n",
    "        message = f'O preço atual do Bitcoin (BTC/USDT) na Binance é: ${price:.2f}'\n",
    "        status = send_to_telegram(message, BOT_TOKEN, CHAT_ID)\n",
    "        print(f'Mensagem enviada com status {status} | {message}')\n",
    "    except Exception as e:\n",
    "        print(f\"Erro ao enviar mensagem: {e}\")\n",
    "\n",
    "    # Aguarda 1 minuto antes de enviar novamente (60 segundos)\n",
    "    time.sleep(60)"
   ]
  },
  {
   "cell_type": "markdown",
   "id": "ca7ad6af",
   "metadata": {},
   "source": [
    "### Etapa 6 - Mandando os gráficos como imagem"
   ]
  },
  {
   "cell_type": "code",
   "execution_count": null,
   "id": "eff8f7c4",
   "metadata": {},
   "outputs": [],
   "source": [
    "import os\n",
    "import time\n",
    "import requests\n",
    "import pandas as pd\n",
    "import plotly.graph_objs as go\n",
    "from plotly.subplots import make_subplots\n",
    "from dotenv import load_dotenv\n",
    "\n",
    "# --- Carrega variáveis de ambiente ---\n",
    "load_dotenv()\n",
    "BOT_TOKEN = os.getenv(\"BOT_TOKEN\")\n",
    "CHAT_ID = os.getenv(\"CHAT_ID\")\n",
    "\n",
    "# --- Função para obter dados históricos do par especificado ---\n",
    "def get_klines(symbol=\"BTCUSDT\", interval=\"1h\", limit=100):\n",
    "    url = \"https://api.binance.com/api/v3/klines\"\n",
    "    params = {\"symbol\": symbol, \"interval\": interval, \"limit\": limit}\n",
    "    response = requests.get(url, params=params)\n",
    "    data = response.json()\n",
    "    df = pd.DataFrame(data, columns=[\n",
    "        \"timestamp\", \"open\", \"high\", \"low\", \"close\", \"volume\",\n",
    "        \"_\", \"_\", \"_\", \"_\", \"_\", \"_\"\n",
    "    ])\n",
    "    df[\"timestamp\"] = pd.to_datetime(df[\"timestamp\"], unit=\"ms\")\n",
    "    df.set_index(\"timestamp\", inplace=True)\n",
    "    df[\"close\"] = df[\"close\"].astype(float)\n",
    "    return df[[\"close\"]]\n",
    "\n",
    "# --- Função para gerar o gráfico e salvar como imagem PNG ---\n",
    "def generate_plot():\n",
    "    btc = get_klines(\"BTCUSDT\")\n",
    "    eth = get_klines(\"ETHUSDT\")\n",
    "\n",
    "    eth_btc = eth[\"close\"] / btc[\"close\"]\n",
    "    eth_btc.name = \"ETH/BTC\"\n",
    "\n",
    "    fig = make_subplots(\n",
    "        rows=3, cols=1,\n",
    "        shared_xaxes=True,\n",
    "        subplot_titles=(\"BTC/USDT\", \"ETH/USDT\", \"ETH/BTC\"),\n",
    "        vertical_spacing=0.05\n",
    "    )\n",
    "\n",
    "    fig.add_trace(go.Scatter(x=btc.index, y=btc[\"close\"], name=\"BTC/USDT\", line=dict(color=\"orange\")), row=1, col=1)\n",
    "    fig.add_trace(go.Scatter(x=eth.index, y=eth[\"close\"], name=\"ETH/USDT\", line=dict(color=\"blue\")), row=2, col=1)\n",
    "    fig.add_trace(go.Scatter(x=eth_btc.index, y=eth_btc, name=\"ETH/BTC\", line=dict(color=\"green\")), row=3, col=1)\n",
    "\n",
    "    fig.update_layout(\n",
    "        height=900,\n",
    "        width=900,\n",
    "        title=\"Mercado Cripto: BTC, ETH e ETH/BTC - https://om-qs.com\",\n",
    "        showlegend=False,\n",
    "        margin=dict(t=60, b=20)\n",
    "    )\n",
    "\n",
    "    fig.write_image(\"btc_eth_chart.png\")\n",
    "\n",
    "# --- Envia imagem via Telegram ---\n",
    "def send_image_to_telegram(bot_token, chat_id, image_path, caption=\"Atualização de mercado cripto\"):\n",
    "    url = f\"https://api.telegram.org/bot{bot_token}/sendPhoto\"\n",
    "    with open(image_path, \"rb\") as photo:\n",
    "        files = {\"photo\": photo}\n",
    "        data = {\"chat_id\": chat_id, \"caption\": caption}\n",
    "        response = requests.post(url, files=files, data=data)\n",
    "    return response.status_code"
   ]
  },
  {
   "cell_type": "code",
   "execution_count": null,
   "id": "6adbe9b3",
   "metadata": {},
   "outputs": [],
   "source": [
    "# --- LOOP de envio periódico ---\n",
    "while True:\n",
    "    try:\n",
    "        generate_plot()\n",
    "        status = send_image_to_telegram(BOT_TOKEN, CHAT_ID, \"btc_eth_chart.png\")\n",
    "        print(f\"Imagem enviada com status {status}\")\n",
    "    except Exception as e:\n",
    "        print(f\"Erro: {e}\")\n",
    "        \n",
    "    # Espera 1 minuto antes de repetir (modifique conforme necessário)\n",
    "    time.sleep(60)"
   ]
  },
  {
   "cell_type": "markdown",
   "id": "1a35888d",
   "metadata": {},
   "source": [
    "Se quiser testar manualmente sem loop, execute somente:"
   ]
  },
  {
   "cell_type": "code",
   "execution_count": null,
   "id": "ea0f11b6",
   "metadata": {},
   "outputs": [],
   "source": [
    "generate_plot()\n",
    "send_image_to_telegram(BOT_TOKEN, CHAT_ID, \"btc_eth_chart.png\")"
   ]
  }
 ],
 "metadata": {
  "kernelspec": {
   "display_name": "OMNP",
   "language": "python",
   "name": "python3"
  },
  "language_info": {
   "codemirror_mode": {
    "name": "ipython",
    "version": 3
   },
   "file_extension": ".py",
   "mimetype": "text/x-python",
   "name": "python",
   "nbconvert_exporter": "python",
   "pygments_lexer": "ipython3",
   "version": "3.8.10"
  }
 },
 "nbformat": 4,
 "nbformat_minor": 5
}
