{
 "cells": [
  {
   "cell_type": "code",
   "execution_count": 1,
   "metadata": {
    "scrolled": true
   },
   "outputs": [
    {
     "name": "stderr",
     "output_type": "stream",
     "text": [
      "Loading required package: xts\n",
      "Loading required package: zoo\n",
      "\n",
      "Attaching package: 'zoo'\n",
      "\n",
      "The following objects are masked from 'package:base':\n",
      "\n",
      "    as.Date, as.Date.numeric\n",
      "\n",
      "Loading required package: TTR\n",
      "Version 0.4-0 included new data defaults. See ?getSymbols.\n",
      "\n",
      "Attaching package: 'data.table'\n",
      "\n",
      "The following objects are masked from 'package:xts':\n",
      "\n",
      "    first, last\n",
      "\n",
      "Loading required package: timeDate\n",
      "Loading required package: timeSeries\n",
      "\n",
      "Attaching package: 'timeSeries'\n",
      "\n",
      "The following object is masked from 'package:zoo':\n",
      "\n",
      "    time<-\n",
      "\n",
      "Loading required package: fBasics\n",
      "\n",
      "\n",
      "Rmetrics Package fBasics\n",
      "Analysing Markets and calculating Basic Statistics\n",
      "Copyright (C) 2005-2014 Rmetrics Association Zurich\n",
      "Educational Software for Financial Engineering and Computational Science\n",
      "Rmetrics is free software and comes with ABSOLUTELY NO WARRANTY.\n",
      "https://www.rmetrics.org --- Mail to: info@rmetrics.org\n",
      "\n",
      "Attaching package: 'fBasics'\n",
      "\n",
      "The following object is masked from 'package:TTR':\n",
      "\n",
      "    volatility\n",
      "\n",
      "\n",
      "Attaching package: 'fTrading'\n",
      "\n",
      "The following object is masked from 'package:TTR':\n",
      "\n",
      "    SMA\n",
      "\n",
      "\n",
      "Attaching package: 'dplyr'\n",
      "\n",
      "The following objects are masked from 'package:timeSeries':\n",
      "\n",
      "    filter, lag\n",
      "\n",
      "The following object is masked from 'package:gridExtra':\n",
      "\n",
      "    combine\n",
      "\n",
      "The following objects are masked from 'package:data.table':\n",
      "\n",
      "    between, first, last\n",
      "\n",
      "The following objects are masked from 'package:xts':\n",
      "\n",
      "    first, last\n",
      "\n",
      "The following objects are masked from 'package:stats':\n",
      "\n",
      "    filter, lag\n",
      "\n",
      "The following objects are masked from 'package:base':\n",
      "\n",
      "    intersect, setdiff, setequal, union\n",
      "\n"
     ]
    }
   ],
   "source": [
    "#Leandro Guerra\n",
    "#www.outspokenmarket.com\n",
    "#21/07/2018\n",
    "\n",
    "#Loading Libraries\n",
    "library(quantmod)\n",
    "library(ggplot2)\n",
    "library(data.table)\n",
    "library(gridExtra)\n",
    "library(fTrading)\n",
    "library(TTR)\n",
    "library(dplyr)"
   ]
  },
  {
   "cell_type": "code",
   "execution_count": 2,
   "metadata": {},
   "outputs": [
    {
     "data": {
      "text/html": [
       "<table>\n",
       "<thead><tr><th scope=col>Time (CAT)</th><th scope=col>Open</th><th scope=col>High</th><th scope=col>Low</th><th scope=col>Close</th><th scope=col>Pips</th><th scope=col>Pips_Shift</th></tr></thead>\n",
       "<tbody>\n",
       "\t<tr><td>01/01/2015 00:00</td><td>1.20969         </td><td>1.20976         </td><td>1.20969         </td><td>1.20976         </td><td>0               </td><td>0               </td></tr>\n",
       "\t<tr><td>01/01/2015 01:00</td><td>1.20976         </td><td>1.20976         </td><td>1.20976         </td><td>1.20976         </td><td>0               </td><td>0               </td></tr>\n",
       "\t<tr><td>01/01/2015 02:00</td><td>1.20976         </td><td>1.20976         </td><td>1.20976         </td><td>1.20976         </td><td>0               </td><td>0               </td></tr>\n",
       "\t<tr><td>01/01/2015 03:00</td><td>1.20976         </td><td>1.20976         </td><td>1.20976         </td><td>1.20976         </td><td>0               </td><td>0               </td></tr>\n",
       "\t<tr><td>01/01/2015 04:00</td><td>1.20976         </td><td>1.20976         </td><td>1.20976         </td><td>1.20976         </td><td>0               </td><td>0               </td></tr>\n",
       "\t<tr><td>01/01/2015 05:00</td><td>1.20976         </td><td>1.20976         </td><td>1.20976         </td><td>1.20976         </td><td>0               </td><td>0               </td></tr>\n",
       "</tbody>\n",
       "</table>\n"
      ],
      "text/latex": [
       "\\begin{tabular}{r|lllllll}\n",
       " Time (CAT) & Open & High & Low & Close & Pips & Pips\\_Shift\\\\\n",
       "\\hline\n",
       "\t 01/01/2015 00:00 & 1.20969          & 1.20976          & 1.20969          & 1.20976          & 0                & 0               \\\\\n",
       "\t 01/01/2015 01:00 & 1.20976          & 1.20976          & 1.20976          & 1.20976          & 0                & 0               \\\\\n",
       "\t 01/01/2015 02:00 & 1.20976          & 1.20976          & 1.20976          & 1.20976          & 0                & 0               \\\\\n",
       "\t 01/01/2015 03:00 & 1.20976          & 1.20976          & 1.20976          & 1.20976          & 0                & 0               \\\\\n",
       "\t 01/01/2015 04:00 & 1.20976          & 1.20976          & 1.20976          & 1.20976          & 0                & 0               \\\\\n",
       "\t 01/01/2015 05:00 & 1.20976          & 1.20976          & 1.20976          & 1.20976          & 0                & 0               \\\\\n",
       "\\end{tabular}\n"
      ],
      "text/markdown": [
       "\n",
       "Time (CAT) | Open | High | Low | Close | Pips | Pips_Shift | \n",
       "|---|---|---|---|---|---|\n",
       "| 01/01/2015 00:00 | 1.20969          | 1.20976          | 1.20969          | 1.20976          | 0                | 0                | \n",
       "| 01/01/2015 01:00 | 1.20976          | 1.20976          | 1.20976          | 1.20976          | 0                | 0                | \n",
       "| 01/01/2015 02:00 | 1.20976          | 1.20976          | 1.20976          | 1.20976          | 0                | 0                | \n",
       "| 01/01/2015 03:00 | 1.20976          | 1.20976          | 1.20976          | 1.20976          | 0                | 0                | \n",
       "| 01/01/2015 04:00 | 1.20976          | 1.20976          | 1.20976          | 1.20976          | 0                | 0                | \n",
       "| 01/01/2015 05:00 | 1.20976          | 1.20976          | 1.20976          | 1.20976          | 0                | 0                | \n",
       "\n",
       "\n"
      ],
      "text/plain": [
       "  Time (CAT)       Open    High    Low     Close   Pips Pips_Shift\n",
       "1 01/01/2015 00:00 1.20969 1.20976 1.20969 1.20976 0    0         \n",
       "2 01/01/2015 01:00 1.20976 1.20976 1.20976 1.20976 0    0         \n",
       "3 01/01/2015 02:00 1.20976 1.20976 1.20976 1.20976 0    0         \n",
       "4 01/01/2015 03:00 1.20976 1.20976 1.20976 1.20976 0    0         \n",
       "5 01/01/2015 04:00 1.20976 1.20976 1.20976 1.20976 0    0         \n",
       "6 01/01/2015 05:00 1.20976 1.20976 1.20976 1.20976 0    0         "
      ]
     },
     "metadata": {},
     "output_type": "display_data"
    }
   ],
   "source": [
    "\n",
    "#Loading Data\n",
    "EURUSD <- fread(\"D:/Projetos/LBI/Outspoken Market/EURUSD_H1_Hour.csv\", sep = \";\",header=T)\n",
    "EURUSD <- as.data.frame(EURUSD)\n",
    "\n",
    "head(EURUSD)"
   ]
  },
  {
   "cell_type": "code",
   "execution_count": 3,
   "metadata": {},
   "outputs": [
    {
     "data": {
      "text/html": [
       "<table>\n",
       "<thead><tr><th scope=col>Date</th><th scope=col>Open</th><th scope=col>High</th><th scope=col>Low</th><th scope=col>Close</th><th scope=col>Pips</th><th scope=col>Pips_Shift</th><th scope=col>Hours</th><th scope=col>Year</th></tr></thead>\n",
       "<tbody>\n",
       "\t<tr><td>01/01/2015 00:00</td><td>1.20969         </td><td>1.20976         </td><td>1.20969         </td><td>1.20976         </td><td>0               </td><td>0               </td><td>0               </td><td>2015            </td></tr>\n",
       "\t<tr><td>01/01/2015 01:00</td><td>1.20976         </td><td>1.20976         </td><td>1.20976         </td><td>1.20976         </td><td>0               </td><td>0               </td><td>1               </td><td>2015            </td></tr>\n",
       "\t<tr><td>01/01/2015 02:00</td><td>1.20976         </td><td>1.20976         </td><td>1.20976         </td><td>1.20976         </td><td>0               </td><td>0               </td><td>2               </td><td>2015            </td></tr>\n",
       "\t<tr><td>01/01/2015 03:00</td><td>1.20976         </td><td>1.20976         </td><td>1.20976         </td><td>1.20976         </td><td>0               </td><td>0               </td><td>3               </td><td>2015            </td></tr>\n",
       "\t<tr><td>01/01/2015 04:00</td><td>1.20976         </td><td>1.20976         </td><td>1.20976         </td><td>1.20976         </td><td>0               </td><td>0               </td><td>4               </td><td>2015            </td></tr>\n",
       "</tbody>\n",
       "</table>\n"
      ],
      "text/latex": [
       "\\begin{tabular}{r|lllllllll}\n",
       " Date & Open & High & Low & Close & Pips & Pips\\_Shift & Hours & Year\\\\\n",
       "\\hline\n",
       "\t 01/01/2015 00:00 & 1.20969          & 1.20976          & 1.20969          & 1.20976          & 0                & 0                & 0                & 2015            \\\\\n",
       "\t 01/01/2015 01:00 & 1.20976          & 1.20976          & 1.20976          & 1.20976          & 0                & 0                & 1                & 2015            \\\\\n",
       "\t 01/01/2015 02:00 & 1.20976          & 1.20976          & 1.20976          & 1.20976          & 0                & 0                & 2                & 2015            \\\\\n",
       "\t 01/01/2015 03:00 & 1.20976          & 1.20976          & 1.20976          & 1.20976          & 0                & 0                & 3                & 2015            \\\\\n",
       "\t 01/01/2015 04:00 & 1.20976          & 1.20976          & 1.20976          & 1.20976          & 0                & 0                & 4                & 2015            \\\\\n",
       "\\end{tabular}\n"
      ],
      "text/markdown": [
       "\n",
       "Date | Open | High | Low | Close | Pips | Pips_Shift | Hours | Year | \n",
       "|---|---|---|---|---|\n",
       "| 01/01/2015 00:00 | 1.20969          | 1.20976          | 1.20969          | 1.20976          | 0                | 0                | 0                | 2015             | \n",
       "| 01/01/2015 01:00 | 1.20976          | 1.20976          | 1.20976          | 1.20976          | 0                | 0                | 1                | 2015             | \n",
       "| 01/01/2015 02:00 | 1.20976          | 1.20976          | 1.20976          | 1.20976          | 0                | 0                | 2                | 2015             | \n",
       "| 01/01/2015 03:00 | 1.20976          | 1.20976          | 1.20976          | 1.20976          | 0                | 0                | 3                | 2015             | \n",
       "| 01/01/2015 04:00 | 1.20976          | 1.20976          | 1.20976          | 1.20976          | 0                | 0                | 4                | 2015             | \n",
       "\n",
       "\n"
      ],
      "text/plain": [
       "  Date             Open    High    Low     Close   Pips Pips_Shift Hours Year\n",
       "1 01/01/2015 00:00 1.20969 1.20976 1.20969 1.20976 0    0          0     2015\n",
       "2 01/01/2015 01:00 1.20976 1.20976 1.20976 1.20976 0    0          1     2015\n",
       "3 01/01/2015 02:00 1.20976 1.20976 1.20976 1.20976 0    0          2     2015\n",
       "4 01/01/2015 03:00 1.20976 1.20976 1.20976 1.20976 0    0          3     2015\n",
       "5 01/01/2015 04:00 1.20976 1.20976 1.20976 1.20976 0    0          4     2015"
      ]
     },
     "metadata": {},
     "output_type": "display_data"
    }
   ],
   "source": [
    "#Manipulating date to get hours and years\n",
    "names(EURUSD)[1] <- \"Date\"\n",
    "EURUSD$Hours <- substr(as.character(EURUSD$Date), 12, 13)\n",
    "EURUSD$Hours <- as.numeric(EURUSD$Hours)\n",
    "EURUSD$Year <- substr(as.character(EURUSD$Date), 7, 10)\n",
    "head(EURUSD,5)"
   ]
  },
  {
   "cell_type": "code",
   "execution_count": 4,
   "metadata": {},
   "outputs": [
    {
     "data": {
      "text/html": [
       "<table>\n",
       "<thead><tr><th></th><th scope=col>Date</th><th scope=col>Open</th><th scope=col>High</th><th scope=col>Low</th><th scope=col>Close</th><th scope=col>Pips</th><th scope=col>Pips_Shift</th><th scope=col>Hours</th><th scope=col>Year</th><th scope=col>STD</th><th scope=col>RSI</th><th scope=col>CCI</th><th scope=col>CLV</th><th scope=col>VHF</th></tr></thead>\n",
       "<tbody>\n",
       "\t<tr><th scope=row>29</th><td>02/01/2015 04:00</td><td>1.20670         </td><td>1.20687         </td><td>1.20476         </td><td>1.20588         </td><td>-8.2            </td><td>-7.1            </td><td>4               </td><td>2015            </td><td>0.001395559     </td><td> 7.094876       </td><td>-268.9198       </td><td> 0.06161137     </td><td>0.9181034       </td></tr>\n",
       "\t<tr><th scope=row>30</th><td>02/01/2015 05:00</td><td>1.20586         </td><td>1.20627         </td><td>1.20552         </td><td>1.20574         </td><td>-1.4            </td><td>-2.8            </td><td>5               </td><td>2015            </td><td>0.001617777     </td><td> 6.836045       </td><td>-196.5544       </td><td>-0.41333333     </td><td>0.9205021       </td></tr>\n",
       "\t<tr><th scope=row>31</th><td>02/01/2015 06:00</td><td>1.20574         </td><td>1.20597         </td><td>1.20492         </td><td>1.20529         </td><td>-4.5            </td><td> 3.2            </td><td>6               </td><td>2015            </td><td>0.001823387     </td><td> 6.069567       </td><td>-172.4746       </td><td>-0.29523810     </td><td>0.9273423       </td></tr>\n",
       "\t<tr><th scope=row>32</th><td>02/01/2015 07:00</td><td>1.20529         </td><td>1.20555         </td><td>1.20461         </td><td>1.20517         </td><td>-1.2            </td><td>-4.5            </td><td>7               </td><td>2015            </td><td>0.001972964     </td><td> 5.880227       </td><td>-148.8883       </td><td> 0.19148936     </td><td>0.9289720       </td></tr>\n",
       "\t<tr><th scope=row>33</th><td>02/01/2015 08:00</td><td>1.20517         </td><td>1.20577         </td><td>1.20485         </td><td>1.20546         </td><td> 2.9            </td><td> 3.6            </td><td>8               </td><td>2015            </td><td>0.002038003     </td><td>12.947731       </td><td>-116.2236       </td><td> 0.32608696     </td><td>0.8812057       </td></tr>\n",
       "</tbody>\n",
       "</table>\n"
      ],
      "text/latex": [
       "\\begin{tabular}{r|llllllllllllll}\n",
       "  & Date & Open & High & Low & Close & Pips & Pips\\_Shift & Hours & Year & STD & RSI & CCI & CLV & VHF\\\\\n",
       "\\hline\n",
       "\t29 & 02/01/2015 04:00 & 1.20670          & 1.20687          & 1.20476          & 1.20588          & -8.2             & -7.1             & 4                & 2015             & 0.001395559      &  7.094876        & -268.9198        &  0.06161137      & 0.9181034       \\\\\n",
       "\t30 & 02/01/2015 05:00 & 1.20586          & 1.20627          & 1.20552          & 1.20574          & -1.4             & -2.8             & 5                & 2015             & 0.001617777      &  6.836045        & -196.5544        & -0.41333333      & 0.9205021       \\\\\n",
       "\t31 & 02/01/2015 06:00 & 1.20574          & 1.20597          & 1.20492          & 1.20529          & -4.5             &  3.2             & 6                & 2015             & 0.001823387      &  6.069567        & -172.4746        & -0.29523810      & 0.9273423       \\\\\n",
       "\t32 & 02/01/2015 07:00 & 1.20529          & 1.20555          & 1.20461          & 1.20517          & -1.2             & -4.5             & 7                & 2015             & 0.001972964      &  5.880227        & -148.8883        &  0.19148936      & 0.9289720       \\\\\n",
       "\t33 & 02/01/2015 08:00 & 1.20517          & 1.20577          & 1.20485          & 1.20546          &  2.9             &  3.6             & 8                & 2015             & 0.002038003      & 12.947731        & -116.2236        &  0.32608696      & 0.8812057       \\\\\n",
       "\\end{tabular}\n"
      ],
      "text/markdown": [
       "\n",
       "| <!--/--> | Date | Open | High | Low | Close | Pips | Pips_Shift | Hours | Year | STD | RSI | CCI | CLV | VHF | \n",
       "|---|---|---|---|---|\n",
       "| 29 | 02/01/2015 04:00 | 1.20670          | 1.20687          | 1.20476          | 1.20588          | -8.2             | -7.1             | 4                | 2015             | 0.001395559      |  7.094876        | -268.9198        |  0.06161137      | 0.9181034        | \n",
       "| 30 | 02/01/2015 05:00 | 1.20586          | 1.20627          | 1.20552          | 1.20574          | -1.4             | -2.8             | 5                | 2015             | 0.001617777      |  6.836045        | -196.5544        | -0.41333333      | 0.9205021        | \n",
       "| 31 | 02/01/2015 06:00 | 1.20574          | 1.20597          | 1.20492          | 1.20529          | -4.5             |  3.2             | 6                | 2015             | 0.001823387      |  6.069567        | -172.4746        | -0.29523810      | 0.9273423        | \n",
       "| 32 | 02/01/2015 07:00 | 1.20529          | 1.20555          | 1.20461          | 1.20517          | -1.2             | -4.5             | 7                | 2015             | 0.001972964      |  5.880227        | -148.8883        |  0.19148936      | 0.9289720        | \n",
       "| 33 | 02/01/2015 08:00 | 1.20517          | 1.20577          | 1.20485          | 1.20546          |  2.9             |  3.6             | 8                | 2015             | 0.002038003      | 12.947731        | -116.2236        |  0.32608696      | 0.8812057        | \n",
       "\n",
       "\n"
      ],
      "text/plain": [
       "   Date             Open    High    Low     Close   Pips Pips_Shift Hours Year\n",
       "29 02/01/2015 04:00 1.20670 1.20687 1.20476 1.20588 -8.2 -7.1       4     2015\n",
       "30 02/01/2015 05:00 1.20586 1.20627 1.20552 1.20574 -1.4 -2.8       5     2015\n",
       "31 02/01/2015 06:00 1.20574 1.20597 1.20492 1.20529 -4.5  3.2       6     2015\n",
       "32 02/01/2015 07:00 1.20529 1.20555 1.20461 1.20517 -1.2 -4.5       7     2015\n",
       "33 02/01/2015 08:00 1.20517 1.20577 1.20485 1.20546  2.9  3.6       8     2015\n",
       "   STD         RSI       CCI       CLV         VHF      \n",
       "29 0.001395559  7.094876 -268.9198  0.06161137 0.9181034\n",
       "30 0.001617777  6.836045 -196.5544 -0.41333333 0.9205021\n",
       "31 0.001823387  6.069567 -172.4746 -0.29523810 0.9273423\n",
       "32 0.001972964  5.880227 -148.8883  0.19148936 0.9289720\n",
       "33 0.002038003 12.947731 -116.2236  0.32608696 0.8812057"
      ]
     },
     "metadata": {},
     "output_type": "display_data"
    }
   ],
   "source": [
    "#Creating more info\n",
    "EURUSD$STD <- runSD(EURUSD$Close,15)                                          # I will explain it later on\n",
    "EURUSD$RSI <- RSI(EURUSD$Close)                                              # I will explain it later on\n",
    "EURUSD$CCI <- CCI(EURUSD[,c(\"High\",\"Low\",\"Close\")])\n",
    "EURUSD$CLV <- CLV(EURUSD[,c(\"High\",\"Low\",\"Close\")])\n",
    "EURUSD$VHF <- VHF(EURUSD[,\"Close\"])\n",
    "\n",
    "EURUSD <- na.omit(EURUSD)\n",
    "head(EURUSD,5)"
   ]
  },
  {
   "cell_type": "code",
   "execution_count": 5,
   "metadata": {},
   "outputs": [],
   "source": [
    "#Evaluating the variation in the number os pips per hour, from 2015 to 20/07/2018 and creating the plot\n",
    "AcumHour <- data.frame(Pips=0, Hours=seq(0,23),stringsAsFactors=FALSE)\n",
    "for(i in 0:23){\n",
    "  AcumHour$Pips[i+1] = 100*sum(EURUSD[EURUSD$Hours==(i),]$Pips)\n",
    "}\n",
    "\n",
    "hist <- ggplot(data=AcumHour, aes(x=Hours, y=Pips)) +\n",
    "          geom_bar(stat=\"identity\") + ggtitle(\"Outspoken Market - Test of Hours Strategy\") +\n",
    "          xlab(\"\") + ylab(\"2015 to 2018\")\n",
    "\n",
    "#2015\n",
    "EUR2015 <- EURUSD[EURUSD$Year==2015,]\n",
    "\n",
    "AcumHour <- data.frame(Pips=0,Hours=seq(0,23),stringsAsFactors=FALSE)\n",
    "\n",
    "for(i in 0:23){\n",
    "  AcumHour$Pips[i+1] = 100*sum(EUR2015[EUR2015$Hours==(i),]$Pips)\n",
    "}\n",
    "\n",
    "hist2015 <- ggplot(data=AcumHour, aes(x=Hours, y=Pips)) +\n",
    "              geom_bar(stat=\"identity\") +\n",
    "              xlab(\"\") + ylab(\"2015\")\n",
    "\n",
    "#2016\n",
    "EUR2016 <- EURUSD[EURUSD$Year==2016,]\n",
    "\n",
    "AcumHour <- data.frame(Pips=0,Hours=seq(0,23),stringsAsFactors=FALSE)\n",
    "\n",
    "for(i in 0:23){\n",
    "  AcumHour$Pips[i+1] = 100*sum(EUR2016[EUR2016$Hours==(i),]$Pips)\n",
    "}\n",
    "\n",
    "hist2016 <- ggplot(data=AcumHour, aes(x=Hours, y=Pips)) +\n",
    "            geom_bar(stat=\"identity\") +\n",
    "            xlab(\"\") + ylab(\"2016\") \n",
    "\n",
    "#2017\n",
    "EUR2017 <- EURUSD[EURUSD$Year==2017,]\n",
    "\n",
    "AcumHour <- data.frame(Pips=0,Hours=seq(0,23),stringsAsFactors=FALSE)\n",
    "\n",
    "for(i in 0:23){\n",
    "  AcumHour$Pips[i+1] = 100*sum(EUR2017[EUR2017$Hours==(i),]$Pips)\n",
    "}\n",
    "\n",
    "hist2017<-ggplot(data=AcumHour, aes(x=Hours, y=Pips)) +\n",
    "          geom_bar(stat=\"identity\") +\n",
    "          xlab(\"\") + ylab(\"2017\")\n",
    "\n",
    "#2018\n",
    "EUR2018 <- EURUSD[EURUSD$Year==2018,]\n",
    "\n",
    "AcumHour <- data.frame(Pips=0,Hours=seq(0,23),stringsAsFactors=FALSE)\n",
    "\n",
    "for(i in 0:23){\n",
    "  AcumHour$Pips[i+1] = 100*sum(EUR2018[EUR2018$Hours==(i),]$Pips)\n",
    "}\n",
    "\n",
    "hist2018 <- ggplot(data=AcumHour, aes(x=Hours, y=Pips)) +\n",
    "          geom_bar(stat=\"identity\") +\n",
    "          xlab(\"Hour GMT +1\") + ylab(\"2018\")"
   ]
  },
  {
   "cell_type": "code",
   "execution_count": 6,
   "metadata": {},
   "outputs": [
    {
     "data": {
      "image/png": "[encoded data removed]",
      "text/plain": [
       "plot without title"
      ]
     },
     "metadata": {},
     "output_type": "display_data"
    }
   ],
   "source": [
    "#Ploting the results\n",
    "grid.arrange(hist,hist2015, hist2016, hist2017, hist2018, nrow = 5, ncol=1)"
   ]
  },
  {
   "cell_type": "code",
   "execution_count": 7,
   "metadata": {},
   "outputs": [],
   "source": [
    "#There is a relevant negative accumulation of pips in the hours 8 and 13 and a positive one in the hours 18 and 19\n",
    "#Lets create a simple and ilustrative strategy on it where:\n",
    "    # Go short at 8am and 13 (1pm) GMT + 1\n",
    "    # Go long at 18 (6pm) and 19 (7pm) GMT + 1\n",
    "\n",
    "#Creating the Hours Strategy\n",
    "pips_hours <- subset(EURUSD,\n",
    "                   (EURUSD$Hours == 23) |      #sell\n",
    "                     (EURUSD$Hours == 13)|    #sell\n",
    "                     (EURUSD$Hours == 18) |   #buy\n",
    "                     (EURUSD$Hours == 19)    #buy\n",
    "                     )\n",
    "\n",
    "#Adjusting the pips signal when the hours are to selling\n",
    "pips_hours$Pips <- ifelse(pips_hours$Hours == \"23\",-1*pips_hours$Pips ,pips_hours$Pips )\n",
    "pips_hours$Pips <- ifelse(pips_hours$Hours == \"13\",-1*pips_hours$Pips ,pips_hours$Pips )\n",
    "cumulative_buy_pips <- cumsum(pips_hours$Pips)\n"
   ]
  },
  {
   "cell_type": "code",
   "execution_count": 8,
   "metadata": {},
   "outputs": [
    {
     "name": "stdout",
     "output_type": "stream",
     "text": [
      "[1] \"Sharpe Ratio\"\n"
     ]
    },
    {
     "data": {
      "text/html": [
       "0.0686282294809926"
      ],
      "text/latex": [
       "0.0686282294809926"
      ],
      "text/markdown": [
       "0.0686282294809926"
      ],
      "text/plain": [
       "[1] 0.06862823"
      ]
     },
     "metadata": {},
     "output_type": "display_data"
    },
    {
     "name": "stdout",
     "output_type": "stream",
     "text": [
      "[1] \"W/L Ration\"\n"
     ]
    },
    {
     "data": {
      "text/html": [
       "0.516346933261281"
      ],
      "text/latex": [
       "0.516346933261281"
      ],
      "text/markdown": [
       "0.516346933261281"
      ],
      "text/plain": [
       "[1] 0.5163469"
      ]
     },
     "metadata": {},
     "output_type": "display_data"
    },
    {
     "name": "stdout",
     "output_type": "stream",
     "text": [
      "[1] \"Profit Factor\"\n"
     ]
    },
    {
     "data": {
      "text/html": [
       "-1.10352973939365"
      ],
      "text/latex": [
       "-1.10352973939365"
      ],
      "text/markdown": [
       "-1.10352973939365"
      ],
      "text/plain": [
       "[1] -1.10353"
      ]
     },
     "metadata": {},
     "output_type": "display_data"
    },
    {
     "name": "stdout",
     "output_type": "stream",
     "text": [
      "[1] \"Max DD in Pips\"\n"
     ]
    },
    {
     "data": {
      "text/html": [
       "688.9"
      ],
      "text/latex": [
       "688.9"
      ],
      "text/markdown": [
       "688.9"
      ],
      "text/plain": [
       "[1] 688.9"
      ]
     },
     "metadata": {},
     "output_type": "display_data"
    },
    {
     "name": "stdout",
     "output_type": "stream",
     "text": [
      "[1] \"Max DD Duration\"\n"
     ]
    },
    {
     "data": {
      "text/html": [
       "290"
      ],
      "text/latex": [
       "290"
      ],
      "text/markdown": [
       "290"
      ],
      "text/plain": [
       "[1] 290"
      ]
     },
     "metadata": {},
     "output_type": "display_data"
    }
   ],
   "source": [
    "#Evaluating strategy KPIs\n",
    "\n",
    "#KPIs\n",
    "Bull_wins_PIPS <- sum(pips_hours$Pips > 0)\n",
    "Bull_losses_PIPS <- sum(pips_hours$Pips <= 0)\n",
    "Bull_totalTrades_PIPS <- Bull_wins_PIPS + Bull_losses_PIPS\n",
    "Bull_AVG_Win_PIPS <- mean(pips_hours[10][which(pips_hours$Pips > 0),])\n",
    "Bull_AVG_Loss_PIPS <- -mean(pips_hours[10][which(pips_hours$Pips < 0),])\n",
    "Bull_WL_Ratio_PIPS <- Bull_wins_PIPS/Bull_totalTrades_PIPS\n",
    "Bull_EV_PIPS <- Bull_AVG_Win_PIPS*Bull_WL_Ratio_PIPS - Bull_AVG_Loss_PIPS*(1-Bull_WL_Ratio_PIPS)\n",
    "Bull_PF_PIPS <- -sum(pips_hours[10][which(pips_hours$Pips > 0),])/sum(pips_hours[10][which(pips_hours$Pips < 0),])\n",
    "\n",
    "SHARPE <- mean(pips_hours$Pips, na.rm = T)/sd(pips_hours$Pips, na.rm = T)\n",
    "print (\"Sharpe Ratio\")\n",
    "SHARPE\n",
    "print (\"W/L Ration\")\n",
    "Bull_WL_Ratio_PIPS\n",
    "print (\"Profit Factor\")\n",
    "Bull_PF_PIPS\n",
    "\n",
    "#DrawDown PIPS\n",
    "Bull_maxDD_PIPS <- maxDrawDown(cumulative_buy_pips)$maxdrawdown[1]\n",
    "Bull_maxDD_duration_PIPS <-maxDrawDown(cumulative_buy_pips)$to - maxDrawDown(cumulative_buy_pips)$from[1]\n",
    "print (\"Max DD in Pips\")\n",
    "Bull_maxDD_PIPS\n",
    "print (\"Max DD Duration\")\n",
    "Bull_maxDD_duration_PIPS"
   ]
  },
  {
   "cell_type": "code",
   "execution_count": 9,
   "metadata": {},
   "outputs": [
    {
     "data": {},
     "metadata": {},
     "output_type": "display_data"
    },
    {
     "data": {
      "image/png": "[encoded data removed]",
      "text/plain": [
       "plot without title"
      ]
     },
     "metadata": {},
     "output_type": "display_data"
    }
   ],
   "source": [
    "#Ploting Strategy Results - Only to illustrate the results. The strategy lacks of consistency verifications\n",
    "df <- data.frame(seq.int(dim(pips_hours)[1]),cumulative_buy_pips)\n",
    "g <- ggplot(df, aes(seq.int(dim(pips_hours)[1])))\n",
    "g <- g + geom_line(aes(y=cumulative_buy_pips,linetype=\"Pips\"), colour=\"blue\")\n",
    "g <- g + ggtitle(\"Outspoken Market - Test of Hours Strategy\")+labs(x=\"Test timeframe: 2015 - 2018\",\n",
    "                                                                                      y=\"Total Pips\") \n",
    "g <- g + annotate(\"text\", x = dim(pips_hours)[1]-500, y = tail(cumulative_buy_pips,1)-45, label = paste(round(tail(cumulative_buy_pips,1),2)))\n",
    "g <- g + theme(legend.position=c(.24, .95), legend.justification = c(1, 1),\n",
    "               legend.background = element_rect(color = \"black\",fill = \"grey90\", size = 1, linetype = \"solid\")) + scale_shape_discrete(name=\"\")\n",
    "g <- g + labs(linetype=\"Hours Strategy\")\n",
    "g\n",
    "\n"
   ]
  },
  {
   "cell_type": "code",
   "execution_count": 10,
   "metadata": {},
   "outputs": [],
   "source": [
    "#Don't forget: Strategies may look good until you add operational costs\n",
    "\n",
    "#Simulating 0.5 and 1 pips of operational costs\n",
    "\n",
    "costs1 <- 0.5\n",
    "costs2 <- 1\n",
    "pips_hours$Pips2 <- pips_hours$Pips-costs2\n",
    "pips_hours$Pips <- pips_hours$Pips-costs1\n",
    "cumulative_buy_pips <- cumsum(pips_hours$Pips)\n",
    "cumulative_buy_pips2 <- cumsum(pips_hours$Pips2)"
   ]
  },
  {
   "cell_type": "code",
   "execution_count": 11,
   "metadata": {},
   "outputs": [
    {
     "data": {},
     "metadata": {},
     "output_type": "display_data"
    },
    {
     "data": {
      "image/png": "[encoded data removed]",
      "text/plain": [
       "plot without title"
      ]
     },
     "metadata": {},
     "output_type": "display_data"
    }
   ],
   "source": [
    "#Ploting Strategy Results not with operational costs - All is different now\n",
    "df <- data.frame(seq.int(dim(pips_hours)[1]),cumulative_buy_pips)\n",
    "g <- ggplot(df, aes(seq.int(dim(pips_hours)[1])))\n",
    "g <- g + geom_line(aes(y=cumulative_buy_pips,linetype=\"0.5 Pips\"), colour=\"blue\")\n",
    "g <- g + geom_line(aes(y=cumulative_buy_pips2,linetype=\"1.0 Pips\"), colour=\"red\")\n",
    "g <- g + ggtitle(\"Outspoken Market - Test of Hours Strategy\")+labs(x=\"Test timeframe: 2015 - 2018\",\n",
    "                                                                                      y=\"Total Pips\") \n",
    "g <- g + annotate(\"text\", x = dim(pips_hours)[1]-500, y = tail(cumulative_buy_pips,1)-45, label = paste(round(tail(cumulative_buy_pips,1),2)))\n",
    "g <- g + annotate(\"text\", x = dim(pips_hours)[1]-500, y = tail(cumulative_buy_pips2,1)-45, label = paste(round(tail(cumulative_buy_pips2,1),2)))\n",
    "g <- g + theme(legend.position=c(.30, .95), legend.justification = c(1, 1),\n",
    "               legend.background = element_rect(color = \"black\",fill = \"grey90\", size = 1, linetype = \"solid\")) + scale_shape_discrete(name=\"\")\n",
    "g <- g + labs(linetype=\"With operational Costs\")\n",
    "g\n",
    "\n"
   ]
  },
  {
   "cell_type": "code",
   "execution_count": 12,
   "metadata": {},
   "outputs": [
    {
     "data": {
      "text/plain": [
       "\n",
       "Call:\n",
       "lm(formula = Pips_Shift ~ STD + VHF + CCI + VHF * Hours + STD * \n",
       "    RSI + Hours * STD + RSI * CCI * Hours, data = pips_hours_traning)\n",
       "\n",
       "Residuals:\n",
       "    Min      1Q  Median      3Q     Max \n",
       "-317.75   -9.70   -0.03    9.80  296.28 \n",
       "\n",
       "Coefficients:\n",
       "                Estimate Std. Error t value Pr(>|t|)    \n",
       "(Intercept)   -2.261e+00  2.847e+00  -0.794   0.4272    \n",
       "STD            1.949e+03  4.555e+02   4.279 1.89e-05 ***\n",
       "VHF           -7.776e-01  3.488e+00  -0.223   0.8236    \n",
       "CCI            5.121e-03  1.666e-02   0.307   0.7585    \n",
       "Hours         -1.847e-02  2.043e-01  -0.090   0.9280    \n",
       "RSI            4.944e-02  5.316e-02   0.930   0.3524    \n",
       "VHF:Hours     -1.567e-01  2.761e-01  -0.568   0.5702    \n",
       "STD:RSI       -3.565e+01  7.260e+00  -4.910 9.20e-07 ***\n",
       "STD:Hours     -2.109e+01  2.025e+01  -1.042   0.2975    \n",
       "CCI:RSI       -1.388e-04  3.049e-04  -0.455   0.6490    \n",
       "Hours:RSI      9.975e-04  3.790e-03   0.263   0.7924    \n",
       "CCI:Hours     -1.779e-03  1.177e-03  -1.511   0.1307    \n",
       "CCI:Hours:RSI  4.082e-05  2.131e-05   1.915   0.0555 .  \n",
       "---\n",
       "Signif. codes:  0 '***' 0.001 '**' 0.01 '*' 0.05 '.' 0.1 ' ' 1\n",
       "\n",
       "Residual standard error: 23.86 on 18727 degrees of freedom\n",
       "Multiple R-squared:  0.002452,\tAdjusted R-squared:  0.001813 \n",
       "F-statistic: 3.837 on 12 and 18727 DF,  p-value: 6.95e-06\n"
      ]
     },
     "metadata": {},
     "output_type": "display_data"
    }
   ],
   "source": [
    "#How could we improve the strategy and make it profitable even with operational costs?\n",
    "#Remember the elements Pip_Shift and STD that I mentioned in the begining?\n",
    "#Let's use them as target and predictiors for a simple linear regression\n",
    "set.seed(2016)\n",
    "#Traning set - 20015 to 2017 data\n",
    "pips_hours_traning <- subset(EURUSD,EURUSD$Year < 2018) \n",
    "#Test set - 2018\n",
    "pips_hours_test <- subset(EURUSD,EURUSD$Year == 2018) \n",
    "\n",
    "linear1 = lm(Pips_Shift ~ STD + VHF + CCI + VHF*Hours + STD*RSI + Hours*STD + RSI*CCI*Hours , \n",
    "             data = pips_hours_traning)\n",
    "summary(linear1)"
   ]
  },
  {
   "cell_type": "code",
   "execution_count": 13,
   "metadata": {},
   "outputs": [],
   "source": [
    "#You can see that the linear regression is not good. However, could it still be profitable?\n",
    "#Let's apply it to the data and find out\n",
    "#In the end only the RSI variable has a decent significance level. In theory you can remove the other variables\n",
    "#I will keep all for the simplicity of the example. Please try it removing and adding more variables :)"
   ]
  },
  {
   "cell_type": "code",
   "execution_count": 14,
   "metadata": {},
   "outputs": [
    {
     "data": {
      "text/html": [
       "<table>\n",
       "<thead><tr><th scope=col>qlinear</th><th scope=col>Pips_Shift</th></tr></thead>\n",
       "<tbody>\n",
       "\t<tr><td>[-21.1,-1.26]     </td><td>-1488.6           </td></tr>\n",
       "\t<tr><td>(-1.26,-0.885]    </td><td>  850.1           </td></tr>\n",
       "\t<tr><td>(-0.885,-0.691]   </td><td>-1558.4           </td></tr>\n",
       "\t<tr><td>(-0.691,-0.558]   </td><td> -258.9           </td></tr>\n",
       "\t<tr><td>(-0.558,-0.448]   </td><td>-1320.7           </td></tr>\n",
       "\t<tr><td>(-0.448,-0.351]   </td><td> -161.8           </td></tr>\n",
       "\t<tr><td>(-0.351,-0.268]   </td><td>-1692.7           </td></tr>\n",
       "\t<tr><td>(-0.268,-0.194]   </td><td> -815.2           </td></tr>\n",
       "\t<tr><td>(-0.194,-0.126]   </td><td>   34.6           </td></tr>\n",
       "\t<tr><td>(-0.126,-0.0624]  </td><td> -191.2           </td></tr>\n",
       "\t<tr><td>(-0.0624,-0.00448]</td><td> -392.1           </td></tr>\n",
       "\t<tr><td>(-0.00448,0.0499] </td><td>  255.7           </td></tr>\n",
       "\t<tr><td>(0.0499,0.106]    </td><td>  630.0           </td></tr>\n",
       "\t<tr><td>(0.106,0.176]     </td><td>  -81.0           </td></tr>\n",
       "\t<tr><td>(0.176,0.272]     </td><td>  172.1           </td></tr>\n",
       "\t<tr><td>(0.272,0.413]     </td><td>  310.9           </td></tr>\n",
       "\t<tr><td>(0.413,0.627]     </td><td>  -82.8           </td></tr>\n",
       "\t<tr><td>(0.627,0.974]     </td><td> 1484.3           </td></tr>\n",
       "\t<tr><td>(0.974,1.68]      </td><td> 1908.1           </td></tr>\n",
       "\t<tr><td>(1.68,17.9]       </td><td> 2224.0           </td></tr>\n",
       "</tbody>\n",
       "</table>\n"
      ],
      "text/latex": [
       "\\begin{tabular}{r|ll}\n",
       " qlinear & Pips\\_Shift\\\\\n",
       "\\hline\n",
       "\t {[}-21.1,-1.26{]}      & -1488.6               \\\\\n",
       "\t (-1.26,-0.885{]}     &   850.1             \\\\\n",
       "\t (-0.885,-0.691{]}    & -1558.4             \\\\\n",
       "\t (-0.691,-0.558{]}    &  -258.9             \\\\\n",
       "\t (-0.558,-0.448{]}    & -1320.7             \\\\\n",
       "\t (-0.448,-0.351{]}    &  -161.8             \\\\\n",
       "\t (-0.351,-0.268{]}    & -1692.7             \\\\\n",
       "\t (-0.268,-0.194{]}    &  -815.2             \\\\\n",
       "\t (-0.194,-0.126{]}    &    34.6             \\\\\n",
       "\t (-0.126,-0.0624{]}   &  -191.2             \\\\\n",
       "\t (-0.0624,-0.00448{]} &  -392.1             \\\\\n",
       "\t (-0.00448,0.0499{]}  &   255.7             \\\\\n",
       "\t (0.0499,0.106{]}     &   630.0             \\\\\n",
       "\t (0.106,0.176{]}      &   -81.0             \\\\\n",
       "\t (0.176,0.272{]}      &   172.1             \\\\\n",
       "\t (0.272,0.413{]}      &   310.9             \\\\\n",
       "\t (0.413,0.627{]}      &   -82.8             \\\\\n",
       "\t (0.627,0.974{]}      &  1484.3             \\\\\n",
       "\t (0.974,1.68{]}       &  1908.1             \\\\\n",
       "\t (1.68,17.9{]}        &  2224.0             \\\\\n",
       "\\end{tabular}\n"
      ],
      "text/markdown": [
       "\n",
       "qlinear | Pips_Shift | \n",
       "|---|---|---|---|---|---|---|---|---|---|---|---|---|---|---|---|---|---|---|---|\n",
       "| [-21.1,-1.26]      | -1488.6            | \n",
       "| (-1.26,-0.885]     |   850.1            | \n",
       "| (-0.885,-0.691]    | -1558.4            | \n",
       "| (-0.691,-0.558]    |  -258.9            | \n",
       "| (-0.558,-0.448]    | -1320.7            | \n",
       "| (-0.448,-0.351]    |  -161.8            | \n",
       "| (-0.351,-0.268]    | -1692.7            | \n",
       "| (-0.268,-0.194]    |  -815.2            | \n",
       "| (-0.194,-0.126]    |    34.6            | \n",
       "| (-0.126,-0.0624]   |  -191.2            | \n",
       "| (-0.0624,-0.00448] |  -392.1            | \n",
       "| (-0.00448,0.0499]  |   255.7            | \n",
       "| (0.0499,0.106]     |   630.0            | \n",
       "| (0.106,0.176]      |   -81.0            | \n",
       "| (0.176,0.272]      |   172.1            | \n",
       "| (0.272,0.413]      |   310.9            | \n",
       "| (0.413,0.627]      |   -82.8            | \n",
       "| (0.627,0.974]      |  1484.3            | \n",
       "| (0.974,1.68]       |  1908.1            | \n",
       "| (1.68,17.9]        |  2224.0            | \n",
       "\n",
       "\n"
      ],
      "text/plain": [
       "   qlinear            Pips_Shift\n",
       "1  [-21.1,-1.26]      -1488.6   \n",
       "2  (-1.26,-0.885]       850.1   \n",
       "3  (-0.885,-0.691]    -1558.4   \n",
       "4  (-0.691,-0.558]     -258.9   \n",
       "5  (-0.558,-0.448]    -1320.7   \n",
       "6  (-0.448,-0.351]     -161.8   \n",
       "7  (-0.351,-0.268]    -1692.7   \n",
       "8  (-0.268,-0.194]     -815.2   \n",
       "9  (-0.194,-0.126]       34.6   \n",
       "10 (-0.126,-0.0624]    -191.2   \n",
       "11 (-0.0624,-0.00448]  -392.1   \n",
       "12 (-0.00448,0.0499]    255.7   \n",
       "13 (0.0499,0.106]       630.0   \n",
       "14 (0.106,0.176]        -81.0   \n",
       "15 (0.176,0.272]        172.1   \n",
       "16 (0.272,0.413]        310.9   \n",
       "17 (0.413,0.627]        -82.8   \n",
       "18 (0.627,0.974]       1484.3   \n",
       "19 (0.974,1.68]        1908.1   \n",
       "20 (1.68,17.9]         2224.0   "
      ]
     },
     "metadata": {},
     "output_type": "display_data"
    }
   ],
   "source": [
    "#Applying the linear regression to the data \n",
    "\n",
    "pips_hours_traning$linear1 = predict(linear1,pips_hours_traning)\n",
    "pips_hours_test$linear1 = predict(linear1,pips_hours_test)\n",
    "\n",
    "#Now let's not only run the regression, but discover the most profitable quantiles\n",
    "q = quantile(pips_hours_traning$linear1, seq(0, 1, by = 0.05))\n",
    "pips_hours_traning$qlinear <- cut(pips_hours_traning$linear1, q, include.lowest=TRUE)\n",
    "\n",
    "\n",
    "Pips_qlinear <- aggregate(Pips_Shift ~ qlinear, data = pips_hours_traning, FUN = sum)\n",
    "Pips_qlinear\n"
   ]
  },
  {
   "cell_type": "code",
   "execution_count": 15,
   "metadata": {},
   "outputs": [
    {
     "data": {
      "text/html": [
       "<ol class=list-inline>\n",
       "\t<li>'Date'</li>\n",
       "\t<li>'Open'</li>\n",
       "\t<li>'High'</li>\n",
       "\t<li>'Low'</li>\n",
       "\t<li>'Close'</li>\n",
       "\t<li>'Pips'</li>\n",
       "\t<li>'Pips_Shift'</li>\n",
       "\t<li>'Hours'</li>\n",
       "\t<li>'Year'</li>\n",
       "\t<li>'STD'</li>\n",
       "\t<li>'RSI'</li>\n",
       "\t<li>'CCI'</li>\n",
       "\t<li>'CLV'</li>\n",
       "\t<li>'VHF'</li>\n",
       "\t<li>'linear1'</li>\n",
       "</ol>\n"
      ],
      "text/latex": [
       "\\begin{enumerate*}\n",
       "\\item 'Date'\n",
       "\\item 'Open'\n",
       "\\item 'High'\n",
       "\\item 'Low'\n",
       "\\item 'Close'\n",
       "\\item 'Pips'\n",
       "\\item 'Pips\\_Shift'\n",
       "\\item 'Hours'\n",
       "\\item 'Year'\n",
       "\\item 'STD'\n",
       "\\item 'RSI'\n",
       "\\item 'CCI'\n",
       "\\item 'CLV'\n",
       "\\item 'VHF'\n",
       "\\item 'linear1'\n",
       "\\end{enumerate*}\n"
      ],
      "text/markdown": [
       "1. 'Date'\n",
       "2. 'Open'\n",
       "3. 'High'\n",
       "4. 'Low'\n",
       "5. 'Close'\n",
       "6. 'Pips'\n",
       "7. 'Pips_Shift'\n",
       "8. 'Hours'\n",
       "9. 'Year'\n",
       "10. 'STD'\n",
       "11. 'RSI'\n",
       "12. 'CCI'\n",
       "13. 'CLV'\n",
       "14. 'VHF'\n",
       "15. 'linear1'\n",
       "\n",
       "\n"
      ],
      "text/plain": [
       " [1] \"Date\"       \"Open\"       \"High\"       \"Low\"        \"Close\"     \n",
       " [6] \"Pips\"       \"Pips_Shift\" \"Hours\"      \"Year\"       \"STD\"       \n",
       "[11] \"RSI\"        \"CCI\"        \"CLV\"        \"VHF\"        \"linear1\"   "
      ]
     },
     "metadata": {},
     "output_type": "display_data"
    }
   ],
   "source": [
    "#Creating the Linear Regression Strategy\n",
    "pips_linear <- subset(pips_hours_test,\n",
    "                   (pips_hours_test$linear1 <=  0) |      #sell\n",
    "                     (pips_hours_test$linear1 > 0)    #buy\n",
    "                     )\n",
    "\n",
    "#Adjusting the pips signal when the hours are to selling\n",
    "pips_linear$Pips_Shift <- ifelse(pips_linear$linear1 <=  0,-1*pips_linear$Pips_Shift ,pips_linear$Pips_Shift )\n",
    "#Setting a Stop\n",
    "pips_linear$Pips_Shift <- ifelse(pips_linear$Pips_Shift <=  -40,-41 ,pips_linear$Pips_Shift )\n",
    "cumulative_buy_pips <- cumsum(pips_linear$Pips_Shift)\n",
    "names(pips_linear)"
   ]
  },
  {
   "cell_type": "code",
   "execution_count": 16,
   "metadata": {},
   "outputs": [
    {
     "name": "stdout",
     "output_type": "stream",
     "text": [
      "[1] \"Sharpe Ratio\"\n"
     ]
    },
    {
     "data": {
      "text/html": [
       "0.0657817229553716"
      ],
      "text/latex": [
       "0.0657817229553716"
      ],
      "text/markdown": [
       "0.0657817229553716"
      ],
      "text/plain": [
       "[1] 0.06578172"
      ]
     },
     "metadata": {},
     "output_type": "display_data"
    },
    {
     "name": "stdout",
     "output_type": "stream",
     "text": [
      "[1] \"W/L Ration\"\n"
     ]
    },
    {
     "data": {
      "text/html": [
       "0.512583164593578"
      ],
      "text/latex": [
       "0.512583164593578"
      ],
      "text/markdown": [
       "0.512583164593578"
      ],
      "text/plain": [
       "[1] 0.5125832"
      ]
     },
     "metadata": {},
     "output_type": "display_data"
    },
    {
     "name": "stdout",
     "output_type": "stream",
     "text": [
      "[1] \"Profit Factor\"\n"
     ]
    },
    {
     "data": {
      "text/html": [
       "-0.310786819882015"
      ],
      "text/latex": [
       "-0.310786819882015"
      ],
      "text/markdown": [
       "-0.310786819882015"
      ],
      "text/plain": [
       "[1] -0.3107868"
      ]
     },
     "metadata": {},
     "output_type": "display_data"
    },
    {
     "name": "stdout",
     "output_type": "stream",
     "text": [
      "[1] \"Max DD in Pips\"\n"
     ]
    },
    {
     "data": {
      "text/html": [
       "907.9"
      ],
      "text/latex": [
       "907.9"
      ],
      "text/markdown": [
       "907.9"
      ],
      "text/plain": [
       "[1] 907.9"
      ]
     },
     "metadata": {},
     "output_type": "display_data"
    },
    {
     "name": "stdout",
     "output_type": "stream",
     "text": [
      "[1] \"Max DD Duration\"\n"
     ]
    },
    {
     "data": {
      "text/html": [
       "<ol class=list-inline>\n",
       "\t<li>264</li>\n",
       "\t<li>265</li>\n",
       "</ol>\n"
      ],
      "text/latex": [
       "\\begin{enumerate*}\n",
       "\\item 264\n",
       "\\item 265\n",
       "\\end{enumerate*}\n"
      ],
      "text/markdown": [
       "1. 264\n",
       "2. 265\n",
       "\n",
       "\n"
      ],
      "text/plain": [
       "[1] 264 265"
      ]
     },
     "metadata": {},
     "output_type": "display_data"
    }
   ],
   "source": [
    "#Evaluating the Linear Regressoin Strategy KPIs\n",
    "\n",
    "#KPIs\n",
    "Bull_wins_PIPS <- sum(pips_linear$Pips_Shift > 0)\n",
    "Bull_losses_PIPS <- sum(pips_linear$Pips_Shift <= 0)\n",
    "Bull_totalTrades_PIPS <- Bull_wins_PIPS + Bull_losses_PIPS\n",
    "Bull_AVG_Win_PIPS <- mean(pips_linear[7][which(pips_linear$Pips_Shift > 0),])\n",
    "Bull_AVG_Loss_PIPS <- -mean(pips_linear[7][which(pips_linear$Pips_Shift < 0),])\n",
    "Bull_WL_Ratio_PIPS <- Bull_wins_PIPS/Bull_totalTrades_PIPS\n",
    "Bull_EV_PIPS <- Bull_AVG_Win_PIPS*Bull_WL_Ratio_PIPS - Bull_AVG_Loss_PIPS*(1-Bull_WL_Ratio_PIPS)\n",
    "Bull_PF_PIPS <- -sum(pips_linear[7][which(pips_linear$Pips_Shift > 0),])/sum(pips_linear[11][which(pips_linear$Pips_Shift < 0),])\n",
    "\n",
    "SHARPE <- mean(pips_linear$Pips_Shift, na.rm = T)/sd(pips_linear$Pips_Shift, na.rm = T)\n",
    "print (\"Sharpe Ratio\")\n",
    "SHARPE\n",
    "print (\"W/L Ration\")\n",
    "Bull_WL_Ratio_PIPS\n",
    "print (\"Profit Factor\")\n",
    "Bull_PF_PIPS\n",
    "\n",
    "#DrawDown PIPS\n",
    "Bull_maxDD_PIPS <- maxDrawDown(cumulative_buy_pips)$maxdrawdown[1]\n",
    "Bull_maxDD_duration_PIPS <-maxDrawDown(cumulative_buy_pips)$to - maxDrawDown(cumulative_buy_pips)$from[1]\n",
    "print (\"Max DD in Pips\")\n",
    "Bull_maxDD_PIPS\n",
    "print (\"Max DD Duration\")\n",
    "Bull_maxDD_duration_PIPS"
   ]
  },
  {
   "cell_type": "code",
   "execution_count": 17,
   "metadata": {},
   "outputs": [
    {
     "data": {},
     "metadata": {},
     "output_type": "display_data"
    },
    {
     "data": {
      "image/png": "[encoded data removed]",
      "text/plain": [
       "plot without title"
      ]
     },
     "metadata": {},
     "output_type": "display_data"
    }
   ],
   "source": [
    "#Ploting Linear Regression Strategy Results - Only to illustrate the results. The strategy lacks of consistency verifications\n",
    "df <- data.frame(seq.int(dim(pips_linear)[1]),cumulative_buy_pips)\n",
    "g <- ggplot(df, aes(seq.int(dim(pips_linear)[1])))\n",
    "g <- g + geom_line(aes(y=cumulative_buy_pips,linetype=\"Pips\"), colour=\"blue\")\n",
    "g <- g + ggtitle(\"Outspoken Market - Linear Regression in Hours Strategy\")+labs(x=\"Test timeframe: 2018\",\n",
    "                                                                                      y=\"Total Pips\") \n",
    "g <- g + annotate(\"text\", x = dim(pips_linear)[1]-10, y = tail(cumulative_buy_pips,1)-45, label = paste(round(tail(cumulative_buy_pips,1),2)))\n",
    "g <- g + theme(legend.position=c(.24, .95), legend.justification = c(1, 1),\n",
    "               legend.background = element_rect(color = \"black\",fill = \"grey90\", size = 1, linetype = \"solid\")) + scale_shape_discrete(name=\"\")\n",
    "g <- g + labs(linetype=\"Hours Strategy\")\n",
    "g\n"
   ]
  },
  {
   "cell_type": "code",
   "execution_count": 18,
   "metadata": {},
   "outputs": [],
   "source": [
    "#Don't forget: Strategies may look good untill you add operational costs\n",
    "\n",
    "#Simulating 0.5 and 1 pips of operational costs\n",
    "\n",
    "costs1 <- 0.5\n",
    "costs2 <- 1\n",
    "pips_linear$Pips_Shift2 <- pips_linear$Pips_Shift-costs2\n",
    "pips_linear$Pips_Shift <- pips_linear$Pips_Shift-costs1\n",
    "cumulative_buy_pips <- cumsum(pips_linear$Pips_Shift)\n",
    "cumulative_buy_pips2 <- cumsum(pips_linear$Pips_Shift2)"
   ]
  },
  {
   "cell_type": "code",
   "execution_count": 19,
   "metadata": {},
   "outputs": [
    {
     "data": {},
     "metadata": {},
     "output_type": "display_data"
    },
    {
     "data": {
      "image/png": "[encoded data removed]",
      "text/plain": [
       "plot without title"
      ]
     },
     "metadata": {},
     "output_type": "display_data"
    }
   ],
   "source": [
    "#Ploting Strategy Results not with operational costs - All is different now\n",
    "df <- data.frame(seq.int(dim(pips_linear)[1]),cumulative_buy_pips)\n",
    "g <- ggplot(df, aes(seq.int(dim(pips_linear)[1])))\n",
    "g <- g + geom_line(aes(y=cumulative_buy_pips,linetype=\"0.5 Pips\"), colour=\"blue\")\n",
    "g <- g + geom_line(aes(y=cumulative_buy_pips2,linetype=\"1.0 Pips\"), colour=\"red\")\n",
    "g <- g + ggtitle(\"Outspoken Market - Linear Regression in Hours Strategy\")+labs(x=\"Test timeframe: 2018\",\n",
    "                                                                                      y=\"Total Pips\") \n",
    "g <- g + annotate(\"text\", x = dim(pips_linear)[1]-10, y = tail(cumulative_buy_pips,1)-45, label = paste(round(tail(cumulative_buy_pips,1),2)))\n",
    "g <- g + annotate(\"text\", x = dim(pips_linear)[1]-10, y = tail(cumulative_buy_pips2,1)-45, label = paste(round(tail(cumulative_buy_pips2,1),2)))\n",
    "g <- g + theme(legend.position=c(.30, .95), legend.justification = c(1, 1),\n",
    "               legend.background = element_rect(color = \"black\",fill = \"grey90\", size = 1, linetype = \"solid\")) + scale_shape_discrete(name=\"\")\n",
    "g <- g + labs(linetype=\"With operational Costs\")\n",
    "g\n"
   ]
  },
  {
   "cell_type": "code",
   "execution_count": null,
   "metadata": {},
   "outputs": [],
   "source": [
    "#Leandro Guerra - www.outspokenmarket.com"
   ]
  }
 ],
 "metadata": {
  "kernelspec": {
   "display_name": "R",
   "language": "R",
   "name": "ir"
  },
  "language_info": {
   "codemirror_mode": "r",
   "file_extension": ".r",
   "mimetype": "text/x-r-source",
   "name": "R",
   "pygments_lexer": "r",
   "version": "3.4.3"
  }
 },
 "nbformat": 4,
 "nbformat_minor": 2
}
