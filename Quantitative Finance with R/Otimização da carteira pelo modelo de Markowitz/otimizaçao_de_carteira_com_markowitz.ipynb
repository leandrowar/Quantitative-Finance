{
 "cells": [
  {
   "cell_type": "code",
   "execution_count": 2,
   "metadata": {
    "scrolled": true
   },
   "outputs": [
    {
     "name": "stdout",
     "output_type": "stream",
     "text": [
      "package 'quadprog' successfully unpacked and MD5 sums checked\n",
      "\n",
      "The downloaded binary packages are in\n",
      "\tC:\\Users\\engle\\AppData\\Local\\Temp\\RtmpKO7QGj\\downloaded_packages\n"
     ]
    }
   ],
   "source": [
    "install.packages(\"quadprog\")"
   ]
  },
  {
   "cell_type": "code",
   "execution_count": 3,
   "metadata": {},
   "outputs": [
    {
     "name": "stdout",
     "output_type": "stream",
     "text": [
      "package 'PerformanceAnalytics' successfully unpacked and MD5 sums checked\n",
      "\n",
      "The downloaded binary packages are in\n",
      "\tC:\\Users\\engle\\AppData\\Local\\Temp\\RtmpKO7QGj\\downloaded_packages\n"
     ]
    }
   ],
   "source": [
    "install.packages(\"PerformanceAnalytics\")"
   ]
  },
  {
   "cell_type": "code",
   "execution_count": 4,
   "metadata": {},
   "outputs": [
    {
     "name": "stderr",
     "output_type": "stream",
     "text": [
      "installing the source package 'IntroCompFinR'\n",
      "\n"
     ]
    }
   ],
   "source": [
    "install.packages(\"IntroCompFinR\", repos=\"http://R-Forge.R-project.org\")"
   ]
  },
  {
   "cell_type": "code",
   "execution_count": 5,
   "metadata": {},
   "outputs": [
    {
     "name": "stderr",
     "output_type": "stream",
     "text": [
      "Loading required package: xts\n",
      "Loading required package: zoo\n",
      "\n",
      "Attaching package: 'zoo'\n",
      "\n",
      "The following objects are masked from 'package:base':\n",
      "\n",
      "    as.Date, as.Date.numeric\n",
      "\n",
      "Registered S3 method overwritten by 'xts':\n",
      "  method     from\n",
      "  as.zoo.xts zoo \n"
     ]
    }
   ],
   "source": [
    "library(IntroCompFinR)"
   ]
  },
  {
   "cell_type": "code",
   "execution_count": 6,
   "metadata": {},
   "outputs": [],
   "source": [
    "# Inserindo os retornos 2015-2019\n",
    "\n",
    "ativos <- c(\"ITUB4\", \"ABEV3\", \"NATU3\", \"PETR4\")\n",
    "\n",
    "itub_ret <- c(-0.13, 0.49, 0.30, 0.32, 0.0235)\n",
    "abev_ret <- c(0.1207, -0.496, 0.3310, -0.2559, 0.2172)\n",
    "natu_ret <- c(-0.2184, -0.004, 0.4511, 0.3749, 0.4771)\n",
    "petr_ret <- c(-0.33,1.21,0.08,0.46,0.07)\n"
   ]
  },
  {
   "cell_type": "code",
   "execution_count": 7,
   "metadata": {},
   "outputs": [
    {
     "data": {
      "text/html": [
       "<table>\n",
       "<thead><tr><th scope=col>itub_ret</th><th scope=col>abev_ret</th><th scope=col>natu_ret</th><th scope=col>petr_ret</th></tr></thead>\n",
       "<tbody>\n",
       "\t<tr><td>-0.1300</td><td> 0.1207</td><td>-0.2184</td><td>-0.33  </td></tr>\n",
       "\t<tr><td> 0.4900</td><td>-0.4960</td><td>-0.0040</td><td> 1.21  </td></tr>\n",
       "\t<tr><td> 0.3000</td><td> 0.3310</td><td> 0.4511</td><td> 0.08  </td></tr>\n",
       "\t<tr><td> 0.3200</td><td>-0.2559</td><td> 0.3749</td><td> 0.46  </td></tr>\n",
       "\t<tr><td> 0.0235</td><td> 0.2172</td><td> 0.4771</td><td> 0.07  </td></tr>\n",
       "</tbody>\n",
       "</table>\n"
      ],
      "text/latex": [
       "\\begin{tabular}{llll}\n",
       " itub\\_ret & abev\\_ret & natu\\_ret & petr\\_ret\\\\\n",
       "\\hline\n",
       "\t -0.1300 &  0.1207 & -0.2184 & -0.33  \\\\\n",
       "\t  0.4900 & -0.4960 & -0.0040 &  1.21  \\\\\n",
       "\t  0.3000 &  0.3310 &  0.4511 &  0.08  \\\\\n",
       "\t  0.3200 & -0.2559 &  0.3749 &  0.46  \\\\\n",
       "\t  0.0235 &  0.2172 &  0.4771 &  0.07  \\\\\n",
       "\\end{tabular}\n"
      ],
      "text/markdown": [
       "\n",
       "| itub_ret | abev_ret | natu_ret | petr_ret |\n",
       "|---|---|---|---|\n",
       "| -0.1300 |  0.1207 | -0.2184 | -0.33   |\n",
       "|  0.4900 | -0.4960 | -0.0040 |  1.21   |\n",
       "|  0.3000 |  0.3310 |  0.4511 |  0.08   |\n",
       "|  0.3200 | -0.2559 |  0.3749 |  0.46   |\n",
       "|  0.0235 |  0.2172 |  0.4771 |  0.07   |\n",
       "\n"
      ],
      "text/plain": [
       "     itub_ret abev_ret natu_ret petr_ret\n",
       "[1,] -0.1300   0.1207  -0.2184  -0.33   \n",
       "[2,]  0.4900  -0.4960  -0.0040   1.21   \n",
       "[3,]  0.3000   0.3310   0.4511   0.08   \n",
       "[4,]  0.3200  -0.2559   0.3749   0.46   \n",
       "[5,]  0.0235   0.2172   0.4771   0.07   "
      ]
     },
     "metadata": {},
     "output_type": "display_data"
    }
   ],
   "source": [
    "# Criando a matriz de retornos\n",
    "\n",
    "retornos <- cbind(itub_ret, abev_ret, natu_ret, petr_ret)\n",
    "\n",
    "retornos"
   ]
  },
  {
   "cell_type": "code",
   "execution_count": 8,
   "metadata": {},
   "outputs": [
    {
     "data": {
      "text/html": [
       "<table>\n",
       "<tbody>\n",
       "\t<tr><th scope=row>ITUB4</th><td> 0.20070</td></tr>\n",
       "\t<tr><th scope=row>ABEV3</th><td>-0.01660</td></tr>\n",
       "\t<tr><th scope=row>NATU3</th><td> 0.21614</td></tr>\n",
       "\t<tr><th scope=row>PETR4</th><td> 0.29800</td></tr>\n",
       "</tbody>\n",
       "</table>\n"
      ],
      "text/latex": [
       "\\begin{tabular}{r|l}\n",
       "\tITUB4 &  0.20070\\\\\n",
       "\tABEV3 & -0.01660\\\\\n",
       "\tNATU3 &  0.21614\\\\\n",
       "\tPETR4 &  0.29800\\\\\n",
       "\\end{tabular}\n"
      ],
      "text/markdown": [
       "\n",
       "| ITUB4 |  0.20070 |\n",
       "| ABEV3 | -0.01660 |\n",
       "| NATU3 |  0.21614 |\n",
       "| PETR4 |  0.29800 |\n",
       "\n"
      ],
      "text/plain": [
       "      [,1]    \n",
       "ITUB4  0.20070\n",
       "ABEV3 -0.01660\n",
       "NATU3  0.21614\n",
       "PETR4  0.29800"
      ]
     },
     "metadata": {},
     "output_type": "display_data"
    }
   ],
   "source": [
    "# Construindo a matriz de retorno medio\n",
    "\n",
    "retorno_medio <- rbind(mean(retornos[,1]), mean(retornos[,2]), mean(retornos[,3]), mean(retornos[,4]))\n",
    "\n",
    "rownames(retorno_medio) <- ativos\n",
    "\n",
    "retorno_medio"
   ]
  },
  {
   "cell_type": "code",
   "execution_count": 9,
   "metadata": {},
   "outputs": [
    {
     "data": {
      "text/html": [
       "<table>\n",
       "<thead><tr><th></th><th scope=col>ITUB4</th><th scope=col>ABEV3</th><th scope=col>NATU3</th><th scope=col>PETR4</th></tr></thead>\n",
       "<tbody>\n",
       "\t<tr><th scope=row>ITUB4</th><td> 0.06213745</td><td>-0.05488917</td><td> 0.01901134</td><td> 0.1274005 </td></tr>\n",
       "\t<tr><th scope=row>ABEV3</th><td>-0.05488917</td><td> 0.12035709</td><td> 0.03764151</td><td>-0.1728217 </td></tr>\n",
       "\t<tr><th scope=row>NATU3</th><td> 0.01901134</td><td> 0.03764151</td><td> 0.09644942</td><td>-0.0032194 </td></tr>\n",
       "\t<tr><th scope=row>PETR4</th><td> 0.12740050</td><td>-0.17282175</td><td>-0.00321940</td><td> 0.3379700 </td></tr>\n",
       "</tbody>\n",
       "</table>\n"
      ],
      "text/latex": [
       "\\begin{tabular}{r|llll}\n",
       "  & ITUB4 & ABEV3 & NATU3 & PETR4\\\\\n",
       "\\hline\n",
       "\tITUB4 &  0.06213745 & -0.05488917 &  0.01901134 &  0.1274005 \\\\\n",
       "\tABEV3 & -0.05488917 &  0.12035709 &  0.03764151 & -0.1728217 \\\\\n",
       "\tNATU3 &  0.01901134 &  0.03764151 &  0.09644942 & -0.0032194 \\\\\n",
       "\tPETR4 &  0.12740050 & -0.17282175 & -0.00321940 &  0.3379700 \\\\\n",
       "\\end{tabular}\n"
      ],
      "text/markdown": [
       "\n",
       "| <!--/--> | ITUB4 | ABEV3 | NATU3 | PETR4 |\n",
       "|---|---|---|---|---|\n",
       "| ITUB4 |  0.06213745 | -0.05488917 |  0.01901134 |  0.1274005  |\n",
       "| ABEV3 | -0.05488917 |  0.12035709 |  0.03764151 | -0.1728217  |\n",
       "| NATU3 |  0.01901134 |  0.03764151 |  0.09644942 | -0.0032194  |\n",
       "| PETR4 |  0.12740050 | -0.17282175 | -0.00321940 |  0.3379700  |\n",
       "\n"
      ],
      "text/plain": [
       "      ITUB4       ABEV3       NATU3       PETR4     \n",
       "ITUB4  0.06213745 -0.05488917  0.01901134  0.1274005\n",
       "ABEV3 -0.05488917  0.12035709  0.03764151 -0.1728217\n",
       "NATU3  0.01901134  0.03764151  0.09644942 -0.0032194\n",
       "PETR4  0.12740050 -0.17282175 -0.00321940  0.3379700"
      ]
     },
     "metadata": {},
     "output_type": "display_data"
    }
   ],
   "source": [
    "matriz_cov <- cov(retornos)\n",
    "\n",
    "rownames(matriz_cov) <- ativos\n",
    "colnames(matriz_cov) <- ativos\n",
    "\n",
    "matriz_cov"
   ]
  },
  {
   "cell_type": "code",
   "execution_count": 10,
   "metadata": {},
   "outputs": [],
   "source": [
    "tx_livre_risco <- 0.06"
   ]
  },
  {
   "cell_type": "code",
   "execution_count": 11,
   "metadata": {},
   "outputs": [],
   "source": [
    "short_selling <- FALSE"
   ]
  },
  {
   "cell_type": "code",
   "execution_count": 12,
   "metadata": {},
   "outputs": [],
   "source": [
    "# Vamos calcular a nossa carteira mais eficiente - chamado de Tangency Portfolio"
   ]
  },
  {
   "attachments": {
    "image.png": {
     "image/png": "[encoded data removed]"
    }
   },
   "cell_type": "markdown",
   "metadata": {},
   "source": [
    "![image.png](attachment:image.png)"
   ]
  },
  {
   "cell_type": "code",
   "execution_count": 18,
   "metadata": {
    "scrolled": true
   },
   "outputs": [
    {
     "data": {
      "text/plain": [
       "Call:\n",
       "tangency.portfolio(er = retorno_medio, cov.mat = matriz_cov, \n",
       "    risk.free = tx_livre_risco, shorts = short_selling)\n",
       "\n",
       "Portfolio expected return:     0.2081941 \n",
       "Portfolio standard deviation:  0.2185496 \n",
       "Portfolio weights:\n",
       "[1] 0.5798 0.0000 0.4079 0.0123"
      ]
     },
     "metadata": {},
     "output_type": "display_data"
    }
   ],
   "source": [
    "# Carteira Eficience\n",
    "carteira_eficiente <- tangency.portfolio(retorno_medio, matriz_cov, tx_livre_risco, shorts = short_selling)\n",
    "\n",
    "carteira_eficiente"
   ]
  },
  {
   "cell_type": "code",
   "execution_count": 19,
   "metadata": {},
   "outputs": [
    {
     "data": {
      "text/html": [
       "<ol class=list-inline>\n",
       "\t<li>'ITUB4'</li>\n",
       "\t<li>'ABEV3'</li>\n",
       "\t<li>'NATU3'</li>\n",
       "\t<li>'PETR4'</li>\n",
       "</ol>\n"
      ],
      "text/latex": [
       "\\begin{enumerate*}\n",
       "\\item 'ITUB4'\n",
       "\\item 'ABEV3'\n",
       "\\item 'NATU3'\n",
       "\\item 'PETR4'\n",
       "\\end{enumerate*}\n"
      ],
      "text/markdown": [
       "1. 'ITUB4'\n",
       "2. 'ABEV3'\n",
       "3. 'NATU3'\n",
       "4. 'PETR4'\n",
       "\n",
       "\n"
      ],
      "text/plain": [
       "[1] \"ITUB4\" \"ABEV3\" \"NATU3\" \"PETR4\""
      ]
     },
     "metadata": {},
     "output_type": "display_data"
    }
   ],
   "source": [
    "ativos"
   ]
  },
  {
   "cell_type": "code",
   "execution_count": 20,
   "metadata": {
    "scrolled": true
   },
   "outputs": [
    {
     "data": {
      "text/plain": [
       "Call:\n",
       "globalMin.portfolio(er = retorno_medio, cov.mat = matriz_cov, \n",
       "    shorts = short_selling)\n",
       "\n",
       "Portfolio expected return:     0.1033685 \n",
       "Portfolio standard deviation:  0.1145999 \n",
       "Portfolio weights:\n",
       "[1] 0.1679 0.5667 0.0000 0.2654"
      ]
     },
     "metadata": {},
     "output_type": "display_data"
    }
   ],
   "source": [
    "# Calculo da carteira com a menor risco possível\n",
    "carteira_min_risco <- globalMin.portfolio(retorno_medio, matriz_cov, shorts = short_selling)\n",
    "\n",
    "carteira_min_risco"
   ]
  },
  {
   "cell_type": "code",
   "execution_count": 21,
   "metadata": {},
   "outputs": [
    {
     "data": {
      "text/plain": [
       "Call:\n",
       "efficient.frontier(er = retorno_medio, cov.mat = matriz_cov, \n",
       "    nport = 40, shorts = short_selling)\n",
       "\n",
       "Frontier portfolios' expected returns and standard deviations\n",
       "   port 1 port 2 port 3 port 4 port 5 port 6 port 7 port 8 port 9 port 10\n",
       "ER 0.1034 0.1084 0.1133 0.1183 0.1233 0.1283 0.1333 0.1383 0.1433  0.1483\n",
       "SD 0.1146 0.1151 0.1166 0.1191 0.1226 0.1265 0.1308 0.1354 0.1403  0.1454\n",
       "   port 11 port 12 port 13 port 14 port 15 port 16 port 17 port 18 port 19\n",
       "ER  0.1533  0.1583  0.1633  0.1682  0.1732  0.1782  0.1832  0.1882  0.1932\n",
       "SD  0.1507  0.1562  0.1618  0.1676  0.1735  0.1796  0.1858  0.1921  0.1985\n",
       "   port 20 port 21 port 22 port 23 port 24 port 25 port 26 port 27 port 28\n",
       "ER  0.1982  0.2032  0.2082  0.2132  0.2182  0.2231  0.2281  0.2331  0.2381\n",
       "SD  0.2050  0.2117  0.2185  0.2261  0.2342  0.2428  0.2517  0.2609  0.2705\n",
       "   port 29 port 30 port 31 port 32 port 33 port 34 port 35 port 36 port 37\n",
       "ER  0.2431  0.2481  0.2531  0.2581  0.2631  0.2681  0.2730  0.2780  0.2830\n",
       "SD  0.2804  0.2929  0.3103  0.3317  0.3564  0.3839  0.4134  0.4447  0.4774\n",
       "   port 38 port 39 port 40\n",
       "ER  0.2880  0.2930  0.2980\n",
       "SD  0.5112  0.5459  0.5814"
      ]
     },
     "metadata": {},
     "output_type": "display_data"
    },
    {
     "data": {
      "text/html": [
       "<dl>\n",
       "\t<dt>$names</dt>\n",
       "\t\t<dd><ol class=list-inline>\n",
       "\t<li>'call'</li>\n",
       "\t<li>'er'</li>\n",
       "\t<li>'sd'</li>\n",
       "\t<li>'weights'</li>\n",
       "</ol>\n",
       "</dd>\n",
       "\t<dt>$class</dt>\n",
       "\t\t<dd>'Markowitz'</dd>\n",
       "</dl>\n"
      ],
      "text/latex": [
       "\\begin{description}\n",
       "\\item[\\$names] \\begin{enumerate*}\n",
       "\\item 'call'\n",
       "\\item 'er'\n",
       "\\item 'sd'\n",
       "\\item 'weights'\n",
       "\\end{enumerate*}\n",
       "\n",
       "\\item[\\$class] 'Markowitz'\n",
       "\\end{description}\n"
      ],
      "text/markdown": [
       "$names\n",
       ":   1. 'call'\n",
       "2. 'er'\n",
       "3. 'sd'\n",
       "4. 'weights'\n",
       "\n",
       "\n",
       "\n",
       "$class\n",
       ":   'Markowitz'\n",
       "\n",
       "\n"
      ],
      "text/plain": [
       "$names\n",
       "[1] \"call\"    \"er\"      \"sd\"      \"weights\"\n",
       "\n",
       "$class\n",
       "[1] \"Markowitz\"\n"
      ]
     },
     "metadata": {},
     "output_type": "display_data"
    }
   ],
   "source": [
    "# compute portfolio frontier\n",
    "fronteira_eficiente <- efficient.frontier(retorno_medio, matriz_cov, nport = 40, shorts = short_selling)\n",
    "\n",
    "fronteira_eficiente\n",
    "\n",
    "attributes(fronteira_eficiente)"
   ]
  },
  {
   "cell_type": "code",
   "execution_count": 24,
   "metadata": {
    "scrolled": false
   },
   "outputs": [
    {
     "data": {
      "image/png": "[encoded data removed]",
      "text/plain": [
       "Plot with title \"Efficient Frontier\""
      ]
     },
     "metadata": {},
     "output_type": "display_data"
    }
   ],
   "source": [
    "# Visualizaçao da saida\n",
    "\n",
    "plot(fronteira_eficiente, plot.assets=TRUE, col=\"blue\", pch=16)\n",
    "\n",
    "points(carteira_min_risco$sd, carteira_min_risco$er, col=\"green\", pch=10, cex=2)\n",
    "points(carteira_eficiente$sd, carteira_eficiente$er, col=\"red\", pch=10, cex=2)\n",
    "\n",
    "text(carteira_min_risco$sd, carteira_min_risco$er, labels=\"Risco Minimo\", pos=2)\n",
    "text(carteira_eficiente$sd, carteira_eficiente$er, labels=\"Carteira Eficiente\", pos=2)\n",
    "\n",
    "tangente <- (carteira_eficiente$er - tx_livre_risco)/carteira_eficiente$sd\n",
    "abline(a = tx_livre_risco, b=tangente, col=\"green\", lwd=2)"
   ]
  }
 ],
 "metadata": {
  "kernelspec": {
   "display_name": "R",
   "language": "R",
   "name": "ir"
  },
  "language_info": {
   "codemirror_mode": "r",
   "file_extension": ".r",
   "mimetype": "text/x-r-source",
   "name": "R",
   "pygments_lexer": "r",
   "version": "3.6.0"
  }
 },
 "nbformat": 4,
 "nbformat_minor": 2
}
